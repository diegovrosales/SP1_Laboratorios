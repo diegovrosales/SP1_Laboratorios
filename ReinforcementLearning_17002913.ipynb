{
  "nbformat": 4,
  "nbformat_minor": 0,
  "metadata": {
    "colab": {
      "name": "ReinforcementLearning 17002913.ipynb",
      "provenance": [],
      "collapsed_sections": [
        "jrI6q7RmWQam"
      ],
      "include_colab_link": true
    },
    "kernelspec": {
      "name": "python3",
      "display_name": "Python 3"
    },
    "accelerator": "GPU"
  },
  "cells": [
    {
      "cell_type": "markdown",
      "metadata": {
        "id": "view-in-github",
        "colab_type": "text"
      },
      "source": [
        "<a href=\"https://colab.research.google.com/github/diegovrosales/SP1_Laboratorios/blob/master/ReinforcementLearning_17002913.ipynb\" target=\"_parent\"><img src=\"https://colab.research.google.com/assets/colab-badge.svg\" alt=\"Open In Colab\"/></a>"
      ]
    },
    {
      "cell_type": "markdown",
      "metadata": {
        "id": "jrI6q7RmWQam",
        "colab_type": "text"
      },
      "source": [
        "<table align=\"center\">\n",
        "  <td align=\"center\"><a target=\"_blank\" href=\"http://introtodeeplearning.com\">\n",
        "        <img src=\"http://introtodeeplearning.com/images/colab/mit.png\" style=\"padding-bottom:5px;\" />\n",
        "      Visit MIT Deep Learning</a></td>\n",
        "  <td align=\"center\"><a target=\"_blank\" href=\"https://colab.research.google.com/github/aamini/introtodeeplearning/blob/master/lab3/RL.ipynb\">\n",
        "        <img src=\"http://introtodeeplearning.com/images/colab/colab.png?v2.0\"  style=\"padding-bottom:5px;\" />Run in Google Colab</a></td>\n",
        "  <td align=\"center\"><a target=\"_blank\" href=\"https://github.com/aamini/introtodeeplearning/blob/master/lab3/RL.ipynb\">\n",
        "        <img src=\"http://introtodeeplearning.com/images/colab/github.png\"  height=\"70px\" style=\"padding-bottom:5px;\"  />View Source on GitHub</a></td>\n",
        "</table>\n",
        "\n",
        "# Copyright Information"
      ]
    },
    {
      "cell_type": "code",
      "metadata": {
        "id": "wkd375upWYok",
        "colab_type": "code",
        "colab": {}
      },
      "source": [
        "# Copyright 2020 MIT 6.S191 Introduction to Deep Learning. All Rights Reserved.\n",
        "# \n",
        "# Licensed under the MIT License. You may not use this file except in compliance\n",
        "# with the License. Use and/or modification of this code outside of 6.S191 must\n",
        "# reference:\n",
        "#\n",
        "# © MIT 6.S191: Introduction to Deep Learning\n",
        "# http://introtodeeplearning.com\n",
        "#"
      ],
      "execution_count": 0,
      "outputs": []
    },
    {
      "cell_type": "markdown",
      "metadata": {
        "id": "WoXYKhfZMHiw",
        "colab_type": "text"
      },
      "source": [
        "# Laboratory 3: Reinforcement Learning\n",
        "\n",
        "Reinforcement learning (RL) is a subset of machine learning which poses learning problems as interactions between agents and environments. It often assumes agents have no prior knowledge of a world, so they must learn to navigate environments by optimizing a reward function. Within an environment, an agent can take certain actions and receive feedback, in the form of positive or negative rewards, with respect to their decision. As such, an agent's feedback loop is somewhat akin to the idea of \"trial and error\", or the manner in which a child might learn to distinguish between \"good\" and \"bad\" actions.\n",
        "\n",
        "In practical terms, our RL agent will interact with the environment by taking an action at each timestep, receiving a corresponding reward, and updating its state according to what it has \"learned\".  \n",
        "\n",
        "![alt text](https://www.kdnuggets.com/images/reinforcement-learning-fig1-700.jpg)\n",
        "\n",
        "While the ultimate goal of reinforcement learning is to teach agents to act in the real, physical world, games provide a convenient proving ground for developing RL algorithms and agents. Games have some properties that make them particularly well suited for RL: \n",
        "\n",
        "1.   In many cases, games have perfectly describable environments. For example, all rules of chess can be formally written and programmed into a chess game simulator;\n",
        "2.   Games are massively parallelizable. Since they do not require running in the real world, simultaneous environments can be run on large data clusters; \n",
        "3.   Simpler scenarios in games enable fast prototyping. This speeds up the development of algorithms that could eventually run in the real-world; and\n",
        "4.   ... Games are fun! \n",
        "\n",
        "In previous labs, we have explored both supervised (with LSTMs, CNNs) and unsupervised / semi-supervised (with VAEs) learning tasks. Reinforcement learning is fundamentally different, in that we are training a deep learning algorithm to govern the actions of our RL agent, that is trying, within its environment, to find the optimal way to achieve a goal. The goal of training an RL agent is to determine the best next step to take to earn the greatest final payoff or return. In this lab, we focus on building a reinforcement learning algorithm to master two different environments with varying complexity. \n",
        "\n",
        "1.   **Cartpole**:   Balance a pole, protruding from a cart, in an upright position by only moving the base left or right. Environment with a low-dimensional observation space.\n",
        "2.   [**Pong**](https://en.wikipedia.org/wiki/Pong): Beat your competitors (whether other AI or humans!) at the game of Pong. Environment with a high-dimensional observation space -- learning directly from raw pixels.\n",
        "\n",
        "Let's get started! First we'll import TensorFlow, the course package, and some dependencies.\n"
      ]
    },
    {
      "cell_type": "code",
      "metadata": {
        "id": "EvdePP-VyVWp",
        "colab_type": "code",
        "outputId": "2758df4b-cbad-4959-a5e8-d131b570d5a0",
        "colab": {
          "base_uri": "https://localhost:8080/",
          "height": 190
        }
      },
      "source": [
        "!apt-get install -y xvfb python-opengl x11-utils > /dev/null 2>&1\n",
        "!pip install gym pyvirtualdisplay scikit-video > /dev/null 2>&1\n",
        "\n",
        "%tensorflow_version 2.x\n",
        "import tensorflow as tf\n",
        "\n",
        "import numpy as np\n",
        "import base64, io, time, gym\n",
        "import IPython, functools\n",
        "import matplotlib.pyplot as plt\n",
        "from tqdm import tqdm\n",
        "\n",
        "!pip install mitdeeplearning\n",
        "import mitdeeplearning as mdl"
      ],
      "execution_count": 9,
      "outputs": [
        {
          "output_type": "stream",
          "text": [
            "Requirement already satisfied: mitdeeplearning in /usr/local/lib/python3.6/dist-packages (0.1.2)\n",
            "Requirement already satisfied: gym in /usr/local/lib/python3.6/dist-packages (from mitdeeplearning) (0.17.1)\n",
            "Requirement already satisfied: regex in /usr/local/lib/python3.6/dist-packages (from mitdeeplearning) (2019.12.20)\n",
            "Requirement already satisfied: tqdm in /usr/local/lib/python3.6/dist-packages (from mitdeeplearning) (4.38.0)\n",
            "Requirement already satisfied: numpy in /usr/local/lib/python3.6/dist-packages (from mitdeeplearning) (1.18.3)\n",
            "Requirement already satisfied: six in /usr/local/lib/python3.6/dist-packages (from gym->mitdeeplearning) (1.12.0)\n",
            "Requirement already satisfied: scipy in /usr/local/lib/python3.6/dist-packages (from gym->mitdeeplearning) (1.4.1)\n",
            "Requirement already satisfied: pyglet<=1.5.0,>=1.4.0 in /usr/local/lib/python3.6/dist-packages (from gym->mitdeeplearning) (1.5.0)\n",
            "Requirement already satisfied: cloudpickle<1.4.0,>=1.2.0 in /usr/local/lib/python3.6/dist-packages (from gym->mitdeeplearning) (1.3.0)\n",
            "Requirement already satisfied: future in /usr/local/lib/python3.6/dist-packages (from pyglet<=1.5.0,>=1.4.0->gym->mitdeeplearning) (0.16.0)\n"
          ],
          "name": "stdout"
        }
      ]
    },
    {
      "cell_type": "markdown",
      "metadata": {
        "id": "zmrHSiXKTXTY",
        "colab_type": "text"
      },
      "source": [
        "Before we dive in, let's take a step back and outline our approach, which is generally applicable to reinforcement learning problems in general:\n",
        "\n",
        "1. **Initialize our environment and our agent**: here we will describe the different observations and actions the agent can make in the environemnt.\n",
        "2. **Define our agent's memory**: this will enable the agent to remember its past actions, observations, and rewards.\n",
        "3. **Define a reward function**: describes the reward associated with an action or sequence of actions.\n",
        "4. **Define the learning algorithm**: this will be used to reinforce the agent's good behaviors and discourage bad behaviors.\n"
      ]
    },
    {
      "cell_type": "markdown",
      "metadata": {
        "id": "UT7YL8KBJIIc",
        "colab_type": "text"
      },
      "source": [
        "# Part 1: Cartpole\n",
        "\n",
        "## 3.1 Define the Cartpole environment and agent\n",
        "\n",
        "### Environment \n",
        "\n",
        "In order to model the environment for both the Cartpole and Pong tasks, we'll be using a toolkit developed by OpenAI called [OpenAI Gym](https://gym.openai.com/). It provides several pre-defined environments for training and testing reinforcement learning agents, including those for classic physics control tasks, Atari video games, and robotic simulations. To access the Cartpole environment, we can use `env = gym.make(\"CartPole-v0\")`, which we gained access to when we imported the `gym` package. We can instantiate different [environments](https://gym.openai.com/envs/#classic_control) by passing the enivronment name to the `make` function.\n",
        "\n",
        "One issue we might experience when developing RL algorithms is that many aspects of the learning process are inherently random: initializing game states, changes in the environment, and the agent's actions. As such, it can be helpful to set a initial \"seed\" for the environment to ensure some level of reproducibility. Much like you might use `numpy.random.seed`, we can call the comparable function in gym, `seed`, with our defined environment to ensure the environment's random variables are initialized the same each time."
      ]
    },
    {
      "cell_type": "code",
      "metadata": {
        "id": "quv9SC0iIYFm",
        "colab_type": "code",
        "outputId": "93792172-7ed3-4a96-cb0b-f64465a3a4c0",
        "colab": {
          "base_uri": "https://localhost:8080/",
          "height": 35
        }
      },
      "source": [
        "### Instantiate the Cartpole environment ###\n",
        "\n",
        "env = gym.make(\"CartPole-v0\")\n",
        "env.seed(1)"
      ],
      "execution_count": 23,
      "outputs": [
        {
          "output_type": "execute_result",
          "data": {
            "text/plain": [
              "[1]"
            ]
          },
          "metadata": {
            "tags": []
          },
          "execution_count": 23
        }
      ]
    },
    {
      "cell_type": "markdown",
      "metadata": {
        "id": "mhEITUcKK455",
        "colab_type": "text"
      },
      "source": [
        "In Cartpole, a pole is attached by an un-actuated joint to a cart, which moves along a frictionless track. The pole starts upright, and the goal is to prevent it from falling over. The system is controlled by applying a force of +1 or -1 to the cart. A reward of +1 is provided for every timestep that the pole remains upright. The episode ends when the pole is more than 15 degrees from vertical, or the cart moves more than 2.4 units from the center of the track. A visual summary of the cartpole environment is depicted below:\n",
        "\n",
        "<img width=\"400px\" src=\"https://danielpiedrahita.files.wordpress.com/2017/02/cart-pole.png\"></img>\n",
        "\n",
        "Given this setup for the environment and the objective of the game, we can think about: 1) what observations help define the environment's state; 2) what actions the agent can take. \n",
        "\n",
        "First, let's consider the observation space. In this Cartpole environment our observations are:\n",
        "\n",
        "1. Cart position\n",
        "2. Cart velocity\n",
        "3. Pole angle\n",
        "4. Pole rotation rate\n",
        "\n",
        "We can confirm the size of the space by querying the environment's observation space:\n"
      ]
    },
    {
      "cell_type": "code",
      "metadata": {
        "id": "UVJaEcbdIX82",
        "colab_type": "code",
        "outputId": "b7003890-6603-4c93-85b7-a81160975869",
        "colab": {
          "base_uri": "https://localhost:8080/",
          "height": 35
        }
      },
      "source": [
        "n_observations = env.observation_space\n",
        "print(\"Environment has observation space =\", n_observations)"
      ],
      "execution_count": 24,
      "outputs": [
        {
          "output_type": "stream",
          "text": [
            "Environment has observation space = Box(4,)\n"
          ],
          "name": "stdout"
        }
      ]
    },
    {
      "cell_type": "markdown",
      "metadata": {
        "id": "ZibGgjrALgPM",
        "colab_type": "text"
      },
      "source": [
        "Second, we consider the action space. At every time step, the agent can move either right or left. Again we can confirm the size of the action space by querying the environment:"
      ]
    },
    {
      "cell_type": "code",
      "metadata": {
        "id": "qc9SIPxBIXrm",
        "colab_type": "code",
        "outputId": "503643ac-29c0-42a8-e478-16a950ad5b9f",
        "colab": {
          "base_uri": "https://localhost:8080/",
          "height": 35
        }
      },
      "source": [
        "n_actions = env.action_space.n\n",
        "print(\"Number of possible actions that the agent can choose from =\", n_actions)"
      ],
      "execution_count": 25,
      "outputs": [
        {
          "output_type": "stream",
          "text": [
            "Number of possible actions that the agent can choose from = 2\n"
          ],
          "name": "stdout"
        }
      ]
    },
    {
      "cell_type": "markdown",
      "metadata": {
        "id": "pPfHME8aRKkb",
        "colab_type": "text"
      },
      "source": [
        "### Cartpole agent\n",
        "\n",
        "Now that we have instantiated the environment and understood the dimensionality of the observation and action spaces, we are ready to define our agent. In deep reinforcement learning, a deep neural network defines the agent. This network will take as input an observation of the environment and output the probability of taking each of the possible actions. Since Cartpole is defined by a low-dimensional observation space, a simple feed-forward neural network should work well for our agent. We will define this using the `Sequential` API.\n"
      ]
    },
    {
      "cell_type": "code",
      "metadata": {
        "id": "W-o_XK4oQ4eu",
        "colab_type": "code",
        "colab": {}
      },
      "source": [
        "### Define the Cartpole agent ###\n",
        "\n",
        "# Defines a feed-forward neural network\n",
        "def create_cartpole_model():\n",
        "  model = tf.keras.models.Sequential([\n",
        "      # First Dense layer\n",
        "      tf.keras.layers.Dense(units=32, activation='relu'),\n",
        "\n",
        "      # TODO: Define the last Dense layer, which will provide the network's output.\n",
        "      # Think about the space the agent needs to act in!\n",
        "      #'''TODO: Dense layer to output action probabilities'''\n",
        "      tf.keras.layers.Dense(units=n_actions, activation=None),\n",
        "  ])\n",
        "  return model\n",
        "\n",
        "cartpole_model = create_cartpole_model()"
      ],
      "execution_count": 0,
      "outputs": []
    },
    {
      "cell_type": "markdown",
      "metadata": {
        "id": "d5D5NSIYS2IW",
        "colab_type": "text"
      },
      "source": [
        "Now that we have defined the core network architecture, we will define an *action function* that executes a forward pass through the network, given a set of observations, and samples from the output. This sampling from the output probabilities will be used to select the next action for the agent. \n",
        "\n",
        "**Critically, this action function is totally general -- we will use this function for both Cartpole and Pong, and it is applicable to other RL tasks, as well!**"
      ]
    },
    {
      "cell_type": "code",
      "metadata": {
        "id": "E_vVZRr8Q4R_",
        "colab_type": "code",
        "colab": {}
      },
      "source": [
        "### Define the agent's action function ###\n",
        "\n",
        "# Function that takes observations as input, executes a forward pass through model, \n",
        "#   and outputs a sampled action.\n",
        "# Arguments:\n",
        "#   model: the network that defines our agent\n",
        "#   observation: observation which is fed as input to the model\n",
        "# Returns:\n",
        "#   action: choice of agent action\n",
        "def choose_action(model, observation):\n",
        "  # add batch dimension to the observation\n",
        "  observation = np.expand_dims(observation, axis=0)\n",
        "\n",
        "  #'''TODO: feed the observations through the model to predict the log probabilities of each possible action.'''\n",
        "  logits = model.predict(observation)\n",
        "  \n",
        "  # pass the log probabilities through a softmax to compute true probabilities\n",
        "  prob_weights = tf.nn.softmax(logits).numpy()\n",
        "  \n",
        "  #'''TODO: randomly sample from the prob_weights to pick an action.\n",
        "  #Hint: carefully consider the dimensionality of the input probabilities (vector) and the output action (scalar)'''\n",
        "  action = np.random.choice(n_actions, size=1, p=prob_weights.flatten())[0]\n",
        "\n",
        "  return action"
      ],
      "execution_count": 0,
      "outputs": []
    },
    {
      "cell_type": "markdown",
      "metadata": {
        "id": "_tR9uAWcTnkr",
        "colab_type": "text"
      },
      "source": [
        "## 3.2 Define the agent's memory\n",
        "\n",
        "Now that we have instantiated the environment and defined the agent network architecture and action function, we are ready to move on to the next step in our RL workflow:\n",
        "1. **Initialize our environment and our agent**: here we will describe the different observations and actions the agent can make in the environemnt.\n",
        "2. **Define our agent's memory**: this will enable the agent to remember its past actions, observations, and rewards.\n",
        "3. **Define the learning algorithm**: this will be used to reinforce the agent's good behaviors and discourage bad behaviors.\n",
        "\n",
        "In reinforcement learning, training occurs alongside the agent's acting in the environment; an *episode* refers to a sequence of actions that ends in some terminal state, such as the pole falling down or the cart crashing. The agent will need to remember all of its observations and actions, such that once an episode ends, it can learn to \"reinforce\" the good actions and punish the undesirable actions via training. Our first step is to define a simple memory buffer that contains the agent's observations, actions, and received rewards from a given episode. \n",
        "\n",
        "**Once again, note the modularity of this memory buffer -- it can and will be applied to other RL tasks as well!**"
      ]
    },
    {
      "cell_type": "code",
      "metadata": {
        "id": "8MM6JwXVQ4JG",
        "colab_type": "code",
        "colab": {}
      },
      "source": [
        "### Agent Memory ###\n",
        "\n",
        "class Memory:\n",
        "  def __init__(self): \n",
        "      self.clear()\n",
        "\n",
        "  # Resets/restarts the memory buffer\n",
        "  def clear(self): \n",
        "      self.observations = []\n",
        "      self.actions = []\n",
        "      self.rewards = []\n",
        "\n",
        "  # Add observations, actions, rewards to memory\n",
        "  def add_to_memory(self, new_observation, new_action, new_reward): \n",
        "      self.observations.append(new_observation)\n",
        "      #'''TODO: update the list of actions with new action'''\n",
        "      self.actions.append(new_action)\n",
        "      #'''TODO: update the list of rewards with new reward'''\n",
        "      self.rewards.append(new_reward)\n",
        "        \n",
        "memory = Memory()"
      ],
      "execution_count": 0,
      "outputs": []
    },
    {
      "cell_type": "markdown",
      "metadata": {
        "id": "D4YhtPaUVj5m",
        "colab_type": "text"
      },
      "source": [
        "## 3.3 Reward function\n",
        "\n",
        "We're almost ready to begin the learning algorithm for our agent! The next step is to compute the rewards of our agent as it acts in the environment. Since we (and the agent) is uncertain about if and when the game or task will end (i.e., when the pole will fall), it is useful to emphasize getting rewards **now** rather than later in the future -- this is the idea of discounting. This is a similar concept to discounting money in the case of interest. ecall from lecture, we use reward discount to give more preference at getting rewards now rather than later in the future. The idea of discounting rewards is similar to discounting money in the case of interest.\n",
        "\n",
        "To compute the expected cumulative reward, known as the **return**, at a given timestep in a learning episode, we sum the discounted rewards expected at that time step $t$, within a learning episode, and projecting into the future. We define the return (cumulative reward) at a time step $t$, $R_{t}$ as:\n",
        "\n",
        ">$R_{t}=\\sum_{k=0}^\\infty\\gamma^kr_{t+k}$\n",
        "\n",
        "where  $0 < \\gamma < 1$ is the discount factor and $r_{t}$ is the reward at time step $t$, and the index $k$ increments projection into the future within a single learning episode. Intuitively, you can think of this function as depreciating any rewards received at later time steps, which will force the agent prioritize getting rewards now. Since we can't extend episodes to infinity, in practice the computation will be limited to the number of timesteps in an episode -- after that the reward is assumed to be zero.\n",
        "\n",
        "Take note of the form of this sum -- we'll have to be clever about how we implement this function. Specifically, we'll need to initialize an array of zeros, with length of the number of time steps, and fill it with the real discounted reward values as we loop through the rewards from the episode, which will have been saved in the agents memory. What we ultimately care about is which actions are better relative to other actions taken in that episode -- so, we'll normalize our computed rewards, using the mean and standard deviation of the rewards across the learning episode.\n"
      ]
    },
    {
      "cell_type": "code",
      "metadata": {
        "id": "5_Q2OFYtQ32X",
        "colab_type": "code",
        "colab": {}
      },
      "source": [
        "### Reward function ###\n",
        "\n",
        "# Helper function that normalizes an np.array x\n",
        "def normalize(x):\n",
        "  x -= np.mean(x)\n",
        "  x /= np.std(x)\n",
        "  return x.astype(np.float32)\n",
        "\n",
        "# Compute normalized, discounted, cumulative rewards (i.e., return)\n",
        "# Arguments:\n",
        "#   rewards: reward at timesteps in episode\n",
        "#   gamma: discounting factor\n",
        "# Returns:\n",
        "#   normalized discounted reward\n",
        "def discount_rewards(rewards, gamma=0.95): \n",
        "  discounted_rewards = np.zeros_like(rewards)\n",
        "  R = 0\n",
        "  for t in reversed(range(0, len(rewards))):\n",
        "      # update the total discounted reward\n",
        "      R = R * gamma + rewards[t]\n",
        "      discounted_rewards[t] = R\n",
        "      \n",
        "  return normalize(discounted_rewards)"
      ],
      "execution_count": 0,
      "outputs": []
    },
    {
      "cell_type": "markdown",
      "metadata": {
        "id": "QzbY-mjGYcmt",
        "colab_type": "text"
      },
      "source": [
        "## 3.4 Learning algorithm\n",
        "\n",
        "Now we can start to define the learing algorithm which will be used to reinforce good behaviors of the agent and discourage bad behaviours. In this lab, we will focus on *policy gradient* methods which aim to **maximize** the likelihood of actions that result in large rewards. Equivalently, this means that we want to **minimize** the negative likelihood of these same actions. We achieve this by simply **scaling** the probabilities by their associated rewards -- effectively amplifying the likelihood of actions that resujlt in large rewards.\n",
        "\n",
        "Since the log function is monotonically increasing, this means that minimizing **negative likelihood** is equivalent to minimizing **negative log-likelihood**.  Recall that we can easily compute the negative log-likelihood of a discrete action by evaluting its [softmax cross entropy](https://www.tensorflow.org/api_docs/python/tf/nn/sparse_softmax_cross_entropy_with_logits). Like in supervised learning, we can use stochastic gradient descent methods to achieve the desired minimization. \n",
        "\n",
        "Let's begin by defining the loss function."
      ]
    },
    {
      "cell_type": "code",
      "metadata": {
        "id": "fsgZ3IDCY_Zn",
        "colab_type": "code",
        "colab": {}
      },
      "source": [
        "### Loss function ###\n",
        "\n",
        "# Arguments:\n",
        "#   logits: network's predictions for actions to take\n",
        "#   actions: the actions the agent took in an episode\n",
        "#   rewards: the rewards the agent received in an episode\n",
        "# Returns:\n",
        "#   loss\n",
        "def compute_loss(logits, actions, rewards): \n",
        "  #'''TODO: complete the function call to compute the negative log probabilities'''\n",
        "  neg_logprob = tf.nn.sparse_softmax_cross_entropy_with_logits(logits=logits, labels=actions)\n",
        "  \n",
        "  #'''TODO: scale the negative log probability by the rewards'''\n",
        "  loss = tf.reduce_mean(neg_logprob * rewards)\n",
        "  return loss"
      ],
      "execution_count": 0,
      "outputs": []
    },
    {
      "cell_type": "markdown",
      "metadata": {
        "id": "Rr5vQ9fqbPpp",
        "colab_type": "text"
      },
      "source": [
        "Now let's use the loss function to define a training step of our learning algorithm:"
      ]
    },
    {
      "cell_type": "code",
      "metadata": {
        "id": "_50ada7nbZ7L",
        "colab_type": "code",
        "colab": {}
      },
      "source": [
        "### Training step (forward and backpropagation) ###\n",
        "\n",
        "def train_step(model, optimizer, observations, actions, discounted_rewards):\n",
        "  with tf.GradientTape() as tape:\n",
        "      # Forward propagate through the agent network\n",
        "      logits = model(observations)\n",
        "\n",
        "      #'''TODO: call the compute_loss function to compute the loss'''\n",
        "      loss = compute_loss(logits, actions, discounted_rewards)\n",
        "\n",
        "  #'''TODO: run backpropagation to minimize the loss using the tape.gradient method.\n",
        "  #    Use `model.trainable_variables`'''\n",
        "  grads = tape.gradient(loss, model.trainable_variables)\n",
        "  optimizer.apply_gradients(zip(grads, model.trainable_variables))\n"
      ],
      "execution_count": 0,
      "outputs": []
    },
    {
      "cell_type": "markdown",
      "metadata": {
        "id": "XsjKXh6BcgjR",
        "colab_type": "text"
      },
      "source": [
        "## 3.5 Run cartpole!\n",
        "\n",
        "Having had no prior knowledge of the environment, the agent will begin to learn how to balance the pole on the cart based only on the feedback received from the environment! Having defined how our agent can move, how it takes in new observations, and how it updates its state, we'll see how it gradually learns a policy of actions to optimize balancing the pole as long as possible. To do this, we'll track how the rewards evolve as a function of training -- how should the rewards change as training progresses?"
      ]
    },
    {
      "cell_type": "code",
      "metadata": {
        "id": "XmOzc2rrcn8Q",
        "colab_type": "code",
        "colab": {
          "base_uri": "https://localhost:8080/",
          "height": 541
        },
        "outputId": "f37c434e-7bd8-4fb7-97d5-4b6ca9a4210b"
      },
      "source": [
        "### Cartpole training! ###\n",
        "\n",
        "# Learning rate and optimizer\n",
        "learning_rate = 1e-3\n",
        "optimizer = tf.keras.optimizers.Adam(learning_rate)\n",
        "\n",
        "# instantiate cartpole agent\n",
        "cartpole_model = create_cartpole_model()\n",
        "\n",
        "# to track our progress\n",
        "smoothed_reward = mdl.util.LossHistory(smoothing_factor=0.9)\n",
        "plotter = mdl.util.PeriodicPlotter(sec=2, xlabel='Iterations', ylabel='Rewards')\n",
        "\n",
        "if hasattr(tqdm, '_instances'): tqdm._instances.clear() # clear if it exists\n",
        "for i_episode in range(500):\n",
        "\n",
        "  plotter.plot(smoothed_reward.get())\n",
        "\n",
        "  # Restart the environment\n",
        "  observation = env.reset()\n",
        "  memory.clear()\n",
        "\n",
        "  while True:\n",
        "      # using our observation, choose an action and take it in the environment\n",
        "      action = choose_action(cartpole_model, observation)\n",
        "      next_observation, reward, done, info = env.step(action)\n",
        "      # add to memory\n",
        "      memory.add_to_memory(observation, action, reward)\n",
        "      \n",
        "      # is the episode over? did you crash or do so well that you're done?\n",
        "      if done:\n",
        "          # determine total reward and keep a record of this\n",
        "          total_reward = sum(memory.rewards)\n",
        "          smoothed_reward.append(total_reward)\n",
        "          \n",
        "          # initiate training - remember we don't know anything about how the \n",
        "          #   agent is doing until it has crashed!\n",
        "          train_step(cartpole_model, optimizer, \n",
        "                     observations=np.vstack(memory.observations),\n",
        "                     actions=np.array(memory.actions),\n",
        "                     discounted_rewards = discount_rewards(memory.rewards))\n",
        "          \n",
        "          # reset the memory\n",
        "          memory.clear()\n",
        "          break\n",
        "      # update our observatons\n",
        "      observation = next_observation"
      ],
      "execution_count": 30,
      "outputs": [
        {
          "output_type": "display_data",
          "data": {
            "image/png": "[encoded data removed]",
            "text/plain": [
              "<Figure size 432x288 with 1 Axes>"
            ]
          },
          "metadata": {
            "tags": []
          }
        },
        {
          "output_type": "display_data",
          "data": {
            "image/png": "[encoded data removed]",
            "text/plain": [
              "<Figure size 432x288 with 1 Axes>"
            ]
          },
          "metadata": {
            "tags": [],
            "needs_background": "light"
          }
        }
      ]
    },
    {
      "cell_type": "markdown",
      "metadata": {
        "id": "mkcUtGF1VE-K",
        "colab_type": "text"
      },
      "source": [
        "To get a sense of how our agent did, we can save a video of the trained model working on balancing the pole. Realize that this is a brand new environment that the agent has not seen before!\n",
        "\n",
        "Let's display the saved video to watch how our agent did!\n"
      ]
    },
    {
      "cell_type": "code",
      "metadata": {
        "id": "PAYBkv6Zbk0J",
        "colab_type": "code",
        "colab": {
          "base_uri": "https://localhost:8080/",
          "height": 439
        },
        "outputId": "f759acc8-b264-4777-e9ea-024203cfaa3c"
      },
      "source": [
        "saved_cartpole = mdl.lab3.save_video_of_model(cartpole_model, \"CartPole-v0\")\n",
        "mdl.lab3.play_video(saved_cartpole)"
      ],
      "execution_count": 31,
      "outputs": [
        {
          "output_type": "stream",
          "text": [
            "Successfully saved 200 frames into CartPole-v0.mp4!\n"
          ],
          "name": "stdout"
        },
        {
          "output_type": "execute_result",
          "data": {
            "text/html": [
              "\n",
              "        <video controls>\n",
              "            <source src=\"data:video/mp4;base64,AAAAIGZ0eXBpc29tAAACAGlzb21pc28yYXZjMW1wNDEAAAAIZnJlZQAALlZtZGF0AAACrQYF//+p3EXpvebZSLeWLNgg2SPu73gyNjQgLSBjb3JlIDE1MiByMjg1NCBlOWE1OTAzIC0gSC4yNjQvTVBFRy00IEFWQyBjb2RlYyAtIENvcHlsZWZ0IDIwMDMtMjAxNyAtIGh0dHA6Ly93d3cudmlkZW9sYW4ub3JnL3gyNjQuaHRtbCAtIG9wdGlvbnM6IGNhYmFjPTEgcmVmPTMgZGVibG9jaz0xOjA6MCBhbmFseXNlPTB4MToweDExMSBtZT1oZXggc3VibWU9NyBwc3k9MSBwc3lfcmQ9MS4wMDowLjAwIG1peGVkX3JlZj0xIG1lX3JhbmdlPTE2IGNocm9tYV9tZT0xIHRyZWxsaXM9MSA4eDhkY3Q9MCBjcW09MCBkZWFkem9uZT0yMSwxMSBmYXN0X3Bza2lwPTEgY2hyb21hX3FwX29mZnNldD00IHRocmVhZHM9MyBsb29rYWhlYWRfdGhyZWFkcz0xIHNsaWNlZF90aHJlYWRzPTAgbnI9MCBkZWNpbWF0ZT0xIGludGVybGFjZWQ9MCBibHVyYXlfY29tcGF0PTAgY29uc3RyYWluZWRfaW50cmE9MCBiZnJhbWVzPTMgYl9weXJhbWlkPTIgYl9hZGFwdD0xIGJfYmlhcz0wIGRpcmVjdD0xIHdlaWdodGI9MSBvcGVuX2dvcD0wIHdlaWdodHA9MiBrZXlpbnQ9MjUwIGtleWludF9taW49MjUgc2NlbmVjdXQ9NDAgaW50cmFfcmVmcmVzaD0wIHJjX2xvb2thaGVhZD00MCByYz1jcmYgbWJ0cmVlPTEgY3JmPTIzLjAgcWNvbXA9MC42MCBxcG1pbj0wIHFwbWF4PTY5IHFwc3RlcD00IGlwX3JhdGlvPTEuNDAgYXE9MToxLjAwAIAAAAIRZYiEADv//vb8/AptFl7/LZ/+iL/lb+9P2a61uFE7M7QacwPQAAADAAADAAADAAAjQ+qT+e/gphQJpan+7xpsKAAAAwAAAwAApWgAAQZcHCmGj4LeQfpCY0NoZIDPiv/wPHQATKHY0BQxqELIOx2yOVcMfUSmu6D/uNZsRu5DsucINHcXnNQW39BzVQ8ZcLwgSo8Y5s6nZxCs/nBACWDtz88tWElnUwCv0qvizI0/3/STRLhL8VadLkz/wDrQokGxciBJAIU7dpE+VD4pENTvrp+ROFByAhV9ZmsD5nZLxph4yHbgAy6hgywANiKI3UlwuAkaIA3IXB8CcJ/xz7w1AAADAXyARK8MDceSGURd9LU9b3XvVUt/hfVFyB98giCGBAU2LjlHcv6Spucc9s2r2UhV0MeVCjvK9TZ/DD+JwDUcU7/2JjyEjrrWiNoOZc77weNMQiMIAeeQqgXrVGd/pschn0BwOLY7PW0DngIlfFSptG3x3O423emuEpHQJDjAwsuKZG8pOWMFR2B0tdWFKjSZgkA6g2u5hyOvcUssqGQYmXt5hMHUlBnziLeWhu4vZWM9XMk+Za6S6vYl0H6YxALgm33IlCj01eUK91V9l7udJ1IVepn0ZNUJAoAKVHBPUxA76qy/PWBzAwqpIRy3LnTi38/daXPXrMpcz994IAHaiVsSWEnAAAADAAADAAAMCQAAALNBmiRsQ7/+qZYAAAkCyxAZvCBqLnf/jnUtw3FyWkX2yur2QRcG8jgZ2eavMSk9xgQkeNQ+4qIm/7E7226YcTmWWf2YywwMH4ssWDT8sGFmjQK1u1C9j9HnwzoxHfGDwXFbi9ZwPuJqXxkT+hFI/Aftf/SwfV/4iFHpp/TiXYFBQeou7WQiSMBQwoA+4wwtz345o7KJfhxlPanJ9vwqrIYbwi4HKF1lzID+qf/wcafewgriwAAAADpBnkJ4hf8AAAqDKNPt2LN85KriUlPQAsnhAeBUP/Ui/8zTJ7pVMFkEQVLXx3S5r9QKCDU+hrR1htmBAAAAJgGeYXRCvwAABYmCEV3wg3SPv4dkjL6jHcsePqxXwHg1EBw0sQ5IAAAAGgGeY2pCvwAABYsF5kyDumyPB3oBubwN8SwJAAAAXkGaaEmoQWiZTAh3//6plgAACMHGogE0rvVNUB3YRyJeSRP4W7ojTX+0LO/ZzhMJEGvi3qJ3cw1qeiDiUX5f/bVxussh1JhedCZJSM6SfzhSqYNpAkdVVZEgMD/qVdEAAAAiQZ6GRREsL/8AAAqFAGun4w+poqXBVlvaM6ID4fVeybh5cQAAAB8BnqV0Qr8AAAWJgU0PdHrlYJ7jwHmguHtZcJz73vbNAAAAGQGep2pCvwAADis7ygwnbXxlH3b9UKBKMHAAAACGQZqsSahBbJlMCHf//qmWAAAJAjJFsf2AqMACgIEywaEyQAlRnbfuOkCLVVSTCIzfHhzwQjgeTDG4pp/4nusxDQpZJlBrjrHA0stKHtFPxv32yu0i0XLwUx6KXE6YK0ioC1vXWinwnKLctqN975F+YsAya9KbPnKynRKxG7/B+PjkZPOTCOAAAAA8QZ7KRRUsL/8AAArLGFkllwADiVo9u1/p79Zyld+xtn5/SfWksaASMv8Gi9fNOApl4IQDv2QZoh+gqjtxAAAAMQGe6XRCvwAADoRT/UfE5N+z8QFQAmXVJ5QFQXFOeR189EydOVP3E7XQcR8SLPvrCAgAAAAZAZ7rakK/AAAOhX4wP4NW5lGjQxhmWTzasAAAAG5BmvBJqEFsmUwId//+qZYAAAjBxqIBqkGocWEluyB+GaS38wAsrGGj99K/fHITW+nnNmocWZbd+9KiU68OTKa4mYDRvDEZrP8ZVFWqz6V8xyfv32ZNvN0OI6Hhv/9wTjwX4rqh6B9X3zsmYvMZywAAADJBnw5FFSwv/wAACoT/632X9Op3Sp4R7qAFmamLmle5IXjyBg3mcYgBlkwJO28UZeESoQAAABwBny10Qr8AAAMAyQByrKWGWBl/AyFMW8m+/W3BAAAAGwGfL2pCvwAADis68rkgBgHIxcuP9Se/ZgiSsAAAAGNBmzRJqEFsmUwId//+qZYAAAMBSqNgxUAX+6Ao5nSo3q58/xlWtSwl8QER5bZhuhz6RB+ctq/+N49rVMMKa9hopgreMbXxEo+vLDJRMZDwe+fS30uS3sKYo+v/yc6WiO19fbAAAAAzQZ9SRRUsL/8AAAMBiFTQksL8/i+mixNMtEOeuAA6zN9+kMo/+cAV4/tsero+24hf9WwZAAAAHQGfcXRCvwAAAwDJImUBxQLf5b35jvp4dJf9c+DAAAAAGQGfc2pCvwAAAwILsfjFBDJk8TBaBj8kC2gAAACDQZt4SahBbJlMCHf//qmWAAADAUn4nQ+uEw7hFyTBACZQNDCiwnB2C6/1yHpnnfssdax5nigW4eIVZcKew4BkWdaUPuB+J+ivhfgWbVtGeo49JuC+/ne06YlDyh98PhWNweVEnBBZ/uTT6iWb09TKUGET5bCY/nRgIaftQ7Myxd2+cmEAAAA1QZ+WRRUsL/8AAAMBiGVhe2mUWtR4AgaAFomkVxXENXP/zxV7sba91zhyGum/0qstWJ748IAAAAAhAZ+1dEK/AAADAgsT5okIOOgIl9N8VGLCt0iDW/EKv9mBAAAAHQGft2pCvwAAAwIKOXRABKPvBEN1aLreHrArRxxxAAAAaEGbvEmoQWyZTAh3//6plgAAAwNp7S/lDVud/yF2ZcRfnvUuF7kM/JlxtMA1BlEw+8Xg8xFTWMDErkOmkj7VoImtf5zjycXYpMQxgdxzO//t+NQ3vMUabfg/3g0gX6/k4lNerfZeXyXEAAAAOkGf2kUVLC//AAADAYgzX6yVuNh7TGlwyNQCjozz+6AEHmAUcONhxNIboBCKzDyT/OtVN/0vmLwK2rEAAAAbAZ/5dEK/AAADAgvmVQvbTnhBoF9FQvcP6oi4AAAAGwGf+2pCvwAAAwILKyW6R8TySd9SNj23tEY/jwAAAF5Bm/5JqEFsmUwUTDv//qmWAAADAUs//MvyERM0W0v2LUsaOmGlyo9GiLta+QoQRoj3AricYAUPitihYF9F6jfce71vzKwznhfAXu1Y9N+A3fnJ/X7CXseitygX6SSBAAAAMAGeHWpCvwAAAwILa+UKdNR+FfGFYOv2v6U+hp8/I0CYZdMhACFetHA3d/eU8+4mzAAAAE1BmgJJ4QpSZTAh3/6plgAAAwFLQC35IRBBL5JtfQeQAcrQS/pMZv9XdocCTZ899O/zNrycNUdORP/cE+vUZTLJgVcYCrfJyPjbbzL7YAAAADZBniBFNEwv/wAAAwGHjZ2338wAN4QbhEb+JBkB4ABDewjuEMY7/6SAFJrB1TEumeKDOU1dB4MAAAAdAZ5fdEK/AAADAgrp/qBaFpbNirG+k279GceBnSQAAAAdAZ5BakK/AAADAMlDJi41LI07ZbHGKNMajxNWtuEAAABeQZpGSahBaJlMCHf//qmWAAAIxAHFQBfkIZooI5VsIECXM5UnVSQP8Ypdvw0RTSCJ1qY1JYp8C9ZZl1FX0sOq3b7Vnuuownqn/6iurzzGLRVvaFwUGRTl5wbNvcNEqAAAAC5BnmRFESwv/wAAAwGIiVWHocx0rQDctqYOvB6+NZGzYVzTfsgBNfmUGmSsO3fnAAAAHAGeg3RCvwAADicS3TYFm6+oCaGCuqClYKCcIOEAAAAwAZ6FakK/AAAOf3/YACMRwxKU6vY+c121c7TPRHNSYRdTLNzIvLLvIvjSTzXLFwVHAAAAfUGaikmoQWyZTAh3//6plgAACQKJgKmm+GMAJHDl2YTGNZ1xzHE08vjpMIHdJG+zE1Ne09sYw0ABHbSqDPvzfjkaVmfPi8BdBNDXDQev6w9inV0IM+6bXyl5XwXAtPnPsdc0+EQfBIuQPP6gQpGdFtHxKHbBWuBaM55xXW0XAAAAH0GeqEUVLC//AAAKyxtqLauyH9vFZjo7x8Mhme1z4OAAAAArAZ7HdEK/AAAOfwi6bkon/IgAXFkh73RHX/kQKjVG8j93NGR/rW+VvX7QgAAAACkBnslqQr8AAAMAyRGfUQjQAtbJD3uiOv/G2l5VG8j93M0MFlEIz6y0fQAAAHRBms5JqEFsmUwId//+qZYAAAjFdNKKgFqQEVDWMQpcB0eu5pDot/hBXy1IS2kJCmQZFyE5XRfmDlY5T+mosERG9afAH2VzbMZbKm6SmQYh1mB8jOogxpj1kOeJCAxWuEeGsdSJ1qAixs70X7Ge3ux7tZcKgAAAACZBnuxFFSwv/wAACoERgF4ACuxEvEQP+bxdHk+Gb280/Az47YieqAAAABoBnwt0Qr8AAA4nEtC6ZS/srDnDhV2Rc9E58QAAABIBnw1qQr8AAA4rOtBDcfGsPUkAAABOQZsSSahBbJlMCHf//qmWAAAJAV8ajTzcf2aM28Q1MeKOwOH8OapPkogDiw+A8kElK5FatQ6CS7uzub8c9P7SIthFz5MT99Hh/cq6eoVJAAAAHUGfMEUVLC//AAAKyxtqLaux+29Pc/x9tPapc/kmAAAAQQGfT3RCvwAADoOUV4WyynQxjAAJneU3dMe//4NVD+iYZg13rA19KZLtoA9eolNsthjohI4Kl6XF3RV1StXECtSTAAAAHwGfUWpCvwAADoG8jfHyBXOgi8vPpUAH9fupGvfy58EAAABoQZtWSahBbJlMCHf//qmWAAAJALAEAg7PfgcL2LKZvAn11F/jFE0DOj30itfViuVz2/vHVlAX2Lw/YPA5dLH4Xg8BzER/Vck2935gfrQFu9zHENNHQ85u+NA0ud6h1QGcpmxfqULYT0gAAAA9QZ90RRUsL/8AAArNAAuJ7K8v6jBDoaJAEQLqAAQ/PMdrnf+f+vXAowonc2Itu3zonu2gaLrlnsLxV7dbcAAAACYBn5N0Qr8AAA6Fm9XzTSL1fRvUSGb/EAJrzHEZiwpbO/H5lXHugQAAABkBn5VqQr8AAA6DOyro8ZD857rvf7J2sYR8AAAAQUGbmkmoQWyZTAh3//6plgAACQKJgCSZmNE4te78RhcDQxs0LTPaPygoAchtH5ju7Idqz/LY5Gif/5eert9HbQhHAAAAHkGfuEUVLC//AAAKyxtqLauybWZXW3M0rKuZjZYtmQAAABMBn9d0Qr8AAA5/CLpuScq00AOmAAAAGAGf2WpCvwAAAwAKzYfk9tmdrbVAe8kWDQAAAFFBm95JqEFsmUwId//+qZYAAAkGES8TFJKcuAAGafLA5Fqv/nXsfRd8dUzlLjlv7gVox9pZ1yPQ282p0wEm6VlOFomuPSGwRtnbE9og75t+uiAAAAAwQZ/8RRUsL/8AAArLKBcWjUKryAEJlaO3DSv8kU9cqTExeZfkaXO8VFz2jFm2nG2ZAAAAFwGeG3RCvwAADoRfY3q5Tb6hcbe+BCyhAAAAKwGeHWpCvwAAAwILsfjCMaAEtqrrhlbx//x1kGCzR73jGi02Q6ZWExWWrbgAAACUQZoCSahBbJlMCHf//qmWAAADA2VrDlEAFknGvI9u+P//ZN4fgXU9w3dgnR0ZgUeev4myZLPdP6AGSiM2dGCJE0VKvwlmuhfBvMEDm8iBlO7/XJ4jYN0+fd3zGpPRo1BzOFO7A+33CLPFlL9ETHMHElq86yXvVFfzM1DAWfssMuJx+/FboTpoKyrtIMke0O4ptx+fbAAAAENBniBFFSwv/wAAAwP2RhMABauCOwTFCyjv/d3HWw7pf6hPE9xM+CZCfTcC47brBFH+e3eA6EmP7ruF3LTtrRVXfb8HAAAAHgGeX3RCvwAABYmFIkt2CI80GW0dH0VfqaAxhOtBwAAAACMBnkFqQr8AAAWKN8oU6LFYjyF2xmdNLgnn24skNzy7kS6owQAAAHxBmkZJqEFsmUwId//+qZYAAAkCiYAkmQY6KZmUqyJzuTxnLEAIRFvum/8UYcihe3bCqHGf/BXTYWVxGayPBmqdLn9x8tn5U+409IWLOLrHTUMbnqbu20Il6EtbQzzuTS3FFcdzrYK6GL5ndc3l0BCkqLs23vYw/UD1ZZvGAAAAPUGeZEUVLC//AAAKzFVwABcretwIxP92XOU1krLlnbV6izghhB/WQ972h/Yk/8u1yG02ZGY/5uAOaxYn2zEAAAA7AZ6DdEK/AAAOgYnAALpEZrRqvzi9s09O5lGh7j3dTjlFe4ndTDKOs0vdvC2fxE6cWFYeTvbbMOQ1UYEAAAAeAZ6FakK/AAAOgCt58HbOssNp/EWwk3T0bxOYHAIDAAAAgkGaikmoQWyZTAh3//6plgAACQFfH6JAHMugF79CJ41R6sUdhFq2GhpP5SbdJuwXf2jbn2lT+E/k1il++Rype+r/Wy84diO4UCyc46wm231rCL9M8IibLS2fRnj8oOxX+h/IsKvlkLlY809S5egid4BwvZLIOan/4Zcb5OdH4jtbvG0AAAA1QZ6oRRUsL/8AAArNEYgButSXlVKYj1sLN/+LnGG63EaO29/wCXPMmas2Wt9gWEN7ElVuwYAAAAAWAZ7HdEK/AAAOhF9jV0emGjMrguzpgAAAAB8BnslqQr8AAA6DM+NmQw2KvUTXgBiFvSuPRm+hYLbhAAAAQUGazkmoQWyZTAh3//6plgAACQG1iAI+QxK4/ukKX7l1M/4t1K4vSiqIWh+fnWf7h2VGrNo2Fa4DtWR0D3NN0BFwAAAAHkGe7EUVLC//AAAKyyfV1cQ4pWPVjzwijSle+BCygAAAABUBnwt0Qr8AAA6EX2N6uSJMpz4oJGEAAAAVAZ8NakK/AAADAMkRn1mNU+t5eDbhAAAAikGbEkmoQWyZTAh3//6plgAACQ9W/BbvUActb/8I15ji7crclye1VC1v+vw7MY/3sMoLtzanCsXGk89WvkStfx3isD7CjXAbuVsUYIzV79l57AFACv8Wnc/3lIzD+w8pmEV0bXNr0stN5ivjIYBW4pkfSchZ7vpjMtNx3i/4d4Mv7f923SaPDYC4VQAAAChBnzBFFSwv/wAACs2tHnDSlNZS1MmMCRimxhIAP718LCJshqNSiF24AAAAGwGfT3RCvwAADoRfKbC0QyxZzeyQRMyB0reVtwAAABwBn1FqQr8AAA6FfpHSBXJQGABEMmgoUfxqulz5AAAASUGbVkmoQWyZTAh3//6plgAAAwARliuOKQAc5P455hDcOiQ/pIz+kavuUM82LTS2MuYxMdOtpSQYbVpRpmqK2n9xHh/cq6eoVIAAAAA5QZ90RRUsL/8AAAMAFQn16KrfVOAFoCl9VfaABfXqUI7YG/HCKJECSjRQVCU9E6aSdOV1I2PnClNmAAAALAGfk3RCvwAADoqAABxQyjrXggOuuA32semTk0EErg6byn7URmrCX9kydVBBAAAAKAGflWpCvwAAAwAcVmfGazY7r2eaNbJPAACd5I5ACKpnkZe0Z+luc7gAAACIQZuaSahBbJlMCHf//qmWAAAJBKEiAJpAEfHgt9s/uDqMI+BWuwDJvFr1vRUr50RJ9RqX97rVcrwcfSGbR6T3hrUT8qS3fpPEZn5U66tud9XgypTsUXc6VbafChGxlwkbVG/qFVbZ7Zyn22h9pNGTlTyJwpUsvCjsroOAq75r5+yWp+QPwrjlsQAAACBBn7hFFSwv/wAACsz69KOWYia/Unugax1oQx2D3YdbZwAAABsBn9d0Qr8AAAMAHFr/V6kskcd4KsOEa2Ri8GAAAAAqAZ/ZakK/AAAOfU5O0QQAtf2O9EPXN2e1aXYTYY759dj02zjKrBMWeIGDAAAAPUGb3kmoQWyZTAh3//6plgAACQKJg/kr8+P9pe/81jk9VFOvqIMJZgOl1KqdQvYuDDGVwNIeyKrqbnycpwMAAAA0QZ/8RRUsL/8AAArHl1Q/wxZsflbdqAAiDxsALyvo0YVjlJhAMVYTwgGbAFyO/ZDkosK2YQAAABkBnht0Qr8AAA6EX9PrKMgKHOV1BfaPwDAhAAAAMAGeHWpCvwAADoMz5HwUJOV/VgBOOqUODxa//apayomGYNezLo16Fy3egPomGSmSYAAAAJZBmgJJqEFsmUwId//+qZYAAAMAApOrwePwAHStbKHXx94dht+Nm+EHYStSSN92V/kO9WqDArTlQKQSaHvhbx3kBjvPf3+JnBcNk0xTDGbRumJjF+Qfm09D8spgsXjAGUgehfg53Sa23EYh+mZ56D04St5e+LbJPuo5YhhxdiaaGbq7CIso3Q1yXHuOTcFPL4pYbf82A8AAAAAZQZ4gRRUsL/8AAAMAAxCpoBiz2KP6CP453QAAACoBnl90Qr8AAA6FnEAABdPkp68dtR55WhFMA2nNmuFR4b76v1C9J575HXAAAAAXAZ5BakK/AAADAAQXY+1B/aq/MjOmncEAAAB0QZpGSahBbJlMCHf//qmWAAAJAjJbEAR70itA42ii4s3xvg7m+iNvTgMiXhzX+McAiB0XKrnccWpfN5hAA4czIhwvG4YTiOK59PEAwT6M64uYIpCyXd0TvhE6xfsZrASWAI30hZTusfF+yeS8A8lRhyf/jpoAAAAxQZ5kRRUsL/8AAArJHax9AB/DeXmw/2Kijxnw7LoRuHbRkrWgz+3DpO6r/1pfUBa1iwAAADkBnoN0Qr8AAA6EXyFrxf+kZkXj+oANhPjWZxxBBJH5o+viFfP5ob+o7pnTl8wUOo3uMCYQRWwWqxUAAAAlAZ6FakK/AAAOgCt5sV2mIWFslIsa5wAW2TQfa3UyKs9TCrUO3QAAADdBmopJqEFsmUwId//+qZYAAAkC/IxZSiRTq3EpGvkmwGb1mUAM8mblHujw0x3mjfxf40IZ3+59AAAAMkGeqEUVLC//AAAKzPr1KJ0rrATTZ7tX8QAt+yqpGYJFxbkqQxXrLgpQeK991Am/ydswAAAALgGex3RCvwAAAwAEF7XqlIoABDYZk8mbvD/ZnyyLl3c/9EgWoiwAr1sfa5VaD5gAAAATAZ7JakK/AAAOgzPkbB9kLDgc+QAAAHFBms5JqEFsmUwId//+qZYAAAkFA1gthrTYAA0bht/eWa0cLY0Gbl7/MWgLftWMzRCvXHhNTXlU16iVcg7O9xfJvLelVRH6wPuNKhUDXFhEaT+IZ85DeaLEdfb9zwIrnmz9qw+Ic9q7ueTeH119FTcI4AAAADtBnuxFFSwv/wAACssoFxaNQpDVG8gAGxDYbqgPYoBKVH9CBNzDxkN5ehb1qSC26gBsLbYafAoWfZH9UAAAAEABnwt0Qr8AAA6FnEAABdOvyVSCEXhSgaKdpu6bdLu/BJ67FNyarZ+pY5NJbBHceOmFXDuTh/p8Dpf0kwCVXB4NAAAAGAGfDWpCvwAADoWAxbiohJr+f1RimzE4PQAAAItBmxJJqEFsmUwId//+qZYAAAkGBjl7AxQBWlNVx8T6pfgjeMxNRgNJ/0q9vs5LNFLxp+o0/5ed1dzrdFXqzxG/DuT5crogj8EVdnv/+xNePQtFOuq9R6gMElw6WaC97yxIfBDdFyPoivlFPwPZ/s58ASiIYjzGMBl9pGMIGYUKyXCtljpHbGcd4QCBAAAAREGfMEUVLC//AAAKyPjNvLAATlt7vtJHVEg1zoivXqbHHZuwoRRteM7SfqZiM+62GhEO+sw3R24eX8//V1MRGe0+OoPJAAAAKQGfT3RCvwAADoRT+hhz1umIpLIAFtdHYnz3BrgzOaS2wnwCG2Crrl5AAAAAHgGfUWpCvwAADoAreblOLSw7RV0fkbo8vFpCFxBduQAAAFFBm1ZJqEFsmUwId//+qZYAAAkCr2QBHwR8pkedtNv4fnmj2fQ0JwSNl+Kmn908Uie/vVnZC/9Rg5NQcwRjmaziagmkvsMu08GIDGr7iTfzeSgAAAAqQZ90RRUsL/8AAArM/9nWicdsMCP2KHwBlLxwAiHL62g0sgZRAu096UL4AAAAGwGfk3RCvwAAAwAcWxw7UlkjjvBVhwjWyMXgwQAAACsBn5VqQr8AAA6DOtBBP88dtgARB50it0I8YdQuPI+QYH2153DMQKaDTqoIAAAAeEGbmkmoQWyZTAh3//6plgAACQVzwbIAiJbYlHTZVuUkNYoVPX+PTk/+s4VnMBrb01Pt/WwC2lURmDNEBkwEEUQhc5p8ep17CuPK0CA3dymckn1pJ0LBJIdkO8+RzNtmIrMP7C7qZN2e4BO98v28MnAYvUXGOd8ZIQAAAC5Bn7hFFSwv/wAACssns65zp3pr7ypUS36JI3CjI36AD+6NE9jSPxlVDU6Al6sVAAAALAGf13RCvwAADoSMEALeO13zwGjrRBJXiY2pqtoIfCZQDOy7oMjgkJrcnL8gAAAAGgGf2WpCvwAAAwAcVnUYzKRWYEt3zXr6MXFhAAAAe0Gb3kmoQWyZTAh3//6plgAACQglelZMQBfkIlcVkAvQZ9gLqqqkoGqdgiHDBAJkkvhQS+JmrD7iN39cn9erp15J060g12fCDe+u/sIhNVStoe957kNU11DBZpvp00B8mB6i1PZvDHHf/irdPMd7dWd2iLCClqc2F6q4gAAAACdBn/xFFSwv/wAACsqZTEANzWdSNSff4b/sRveBhIraznEzE2bk7cEAAAAhAZ4bdEK/AAAOhF8psLTo/aWuzLFqoFkExYHZfHEFHZz5AAAAGgGeHWpCvwAADoM6jDhhhZrXQ6lMPiaVAC0gAAAAS0GaAkmoQWyZTAh3//6plgAACQXM1FjyCWFD9XdpmpiA+oCbJ7o19Cj4jxpfvAAuu3iP0Jim1zCw33owa8k8YDiZ0xUVfrY0fyzFgAAAADRBniBFFSwv/wAACssoFv/Zn8AGyGyj/shd18glcBVaqOkII9n1ZJipXIKiEh2pb3sSwjkhAAAAKAGeX3RCvwAADoRf1ZEBua17/deVqk6wgBMDqb0NYxWIj3bH480QD8gAAAAcAZ5BakK/AAADAMkSmOKxtgWaCQbSmSMsJObWzQAAAHhBmkZJqEFsmUwId//+qZYAAAkFc/CoIAvyADLA6e6j2E2sYKoun4lpv4K+sYkQS7HZyq2qGOaVaQb4Rrv6gdsK0BSrcYdC9ICNw5vDSPBcus44+rvf3mDMJJS7MmzZWs6idniUTxh/Fh/ICH+alASv5LmVK0ZHFLwAAAAVQZ5kRRUsL/8AAArLJ65Ma90U/2rZAAAAEQGeg3RCvwAADoRfIIL2jknBAAAAEAGehWpCvwAAAwABiHaAHTEAAAArQZqKSahBbJlMCHf//qmWAAADAADu+BSwA3eu1SldpfGEPeCAcn2yqJEtoQAAADpBnqhFFSwv/wAAAwAUz3uesy0AAuMTcNLUx0fNG/+QbQzx5QzyO48vv9V/H9+EVLqDiRvwBjH2AWDAAAAAGwGex3RCvwAAAwAcWKf0MP2TsjEKWNO/oqMsGAAAAB4BnslqQr8AAAMAHD1SvIOttGmRu2KV65nP3VvlcWEAAAB1QZrOSahBbJlMCHf//qmWAAAJBKEgipCEAROAF8mXnlMytsNeoAKCLpnYM5i/oZdRO+YydpxPPx3HkerBoJmWySIMuCQ4VG6DD8+hZUHUJvlDh9AyDbUK7xVjh14rHcGpb+CAynzVdl/pf6oYskidKrf3U+5oAAAAIUGe7EUVLC//AAAKy0sQA3KnE0UPZM/g8Khb78VGUdQzagAAABIBnwt0Qr8AAA6EXrO9QXdkQcEAAAAVAZ8NakK/AAAOgzqlCWVZf30OAOOBAAAAPUGbEkmoQWyZTAh3//6plgAACQLzq12NaRz5H23poyz69ILr4cAE2rUJ61dc9wdRPraS5B447dD+wniiqMEAAAAeQZ8wRRUsL/8AAArLH1XF2NplP1+df52BmXPjk/ZgAAAANgGfT3RCvwAADoSMEALbjJHsoYvyQjmkGjVrokoMR8DgHasFKYT6C29SZ7RYhLGzvdWmpavYMAAAACgBn1FqQr8AAA56ZYRaAEslPp6BPv5XiYwrGPIpKIR/BVHbvl1oRI65AAAAK0GbVkmoQWyZTAh3//6plgAAAwACc9W/cCUQCgPSf+OfJTcYrVlTpS81Ml4AAAAjQZ90RRUsL/8AAArNrQWiAgtWvnnPMgAE76msrAS9X1qXpIAAAAASAZ+TdEK/AAAOhF8ggslg9G/JAAAAGwGflWpCvwAADoM60KzSp2u7MAEQ1nB8+nt9HwAAADxBm5pJqEFsmUwId//+qZYAAAkCpvgRseL/cCowKRRJ/qEUlfXhMTsaRHP1OrShaKNPqTnKhjfesSLuS8EAAAAhQZ+4RRUsL/8AAArM/CnDCl6dp/vq0KAE14Yhtn/jdbyBAAAAFgGf13RCvwAADoF9aFZJ0cfJyQyjKcAAAAAWAZ/ZakK/AAAOgzrQrNKr/0x7VJ5nFwAAADlBm95JqEFsmUwId//+qZYAAAkCptbV//lKb3IqxNOvbLMl3Z7Skb6ZbTgSxyrbFnDc6t9P2g8+FAgAAAAyQZ/8RRUsL/8AAArE28wAHFonIeAw/5wnHbHn9KWm2fqKDJ3FQKEySLvI/A7A8EXwpgUAAAAWAZ4bdEK/AAAOhF8hWW9rtmKnrHB1QQAAABwBnh1qQr8AAA6FgKVmigETMpETEtNHg01m3xswAAAAJEGaAkmoQWyZTAh3//6plgAACQShIKV/giSSEh9pewcqZyF4OAAAADBBniBFFSwv/wAACssnNwfZSKMEAAhFuPgs+R8NbdpZ/MBqAgGRIwoOOZTPzOxJ7MEAAAAtAZ5fdEK/AAAOhF6zciUIAEzhbZs8GTBUlZ/P5jrQnPuORoUtaVjd2vPwLWLAAAAAKwGeQWpCvwAAAwBNZHk/oAEzuyG2JRL/0tyM/k3ocXfvUgcVGRc4bsmJZCcAAABUQZpGSahBbJlMCHf//qmWAAAJAvOrZ8DngSMADd3KHbwKo87ja6THzVQFYdguUxzSEJK7oOZBQwrvGdlOmZXbSdwKJIHqXk2+Xo4WF4A1X+AiET5gAAAAFEGeZEUVLC//AAAKyyeuTXfiSoepAAAAGQGeg3RCvwAADoRfIIMC0sADa17cZffI64EAAAARAZ6FakK/AAADAAGIdbyNkLEAAAAuQZqKSahBbJlMCHf//qmWAAADAAJz1b9wJRAFPek/8c8Jqhmh1XNso77mRWaV5QAAABZBnqhFFSwv/wAACs2tytWZhG29gHo+AAAAEwGex3RCvwAADoRfIIJd4L1svyAAAAATAZ7JakK/AAAOgzrQrNKnZ3pXXQAAAEZBms5JqEFsmUwId//+qZYAAAkCiY+I6QbGAAXTj+4pEWx3H/fy2XrzHOeD37OeAnLtZphca76rq7to+f2V7maC/vhfVhoEAAAALkGe7EUVLC//AAAKtMc/VcharUoAIP1XRZW6aXIzzGgnIk/mcGQO8ag5CZq6hBwAAAAZAZ8LdEK/AAAOfCTGdri43Zpz7nhbRSg/wQAAABgBnw1qQr8AAA6DO8oL6XzS7REi2xyMemEAAABDQZsSSahBbJlMCHf//qmWAAAJAvOraP2zd9NL61oWfKiLKLvEfVu0lxSsLgdro3CmESfT0KSRiviOrbqCvM/grVKDIQAAAB5BnzBFFSwv/wAACssoFv9C/LxphzGVrI6qbrvfbMAAAAAnAZ9PdEK/AAAOajhkuoASzM7QrHmSfp/+r57vzkAgD5CQT5HdeB9sAAAAEgGfUWpCvwAADoWAoBurQnDJOQAAACFBm1ZJqEFsmUwId//+qZYAAAkC/dFQR0dE+RCDZ+c0TcAAAAAqQZ90RRUsL/8AAArM/9dr9jdIlAlIETJHAAB/W5itKDze5+DozLRbolTYAAAAFgGfk3RCvwAAAwAEN9mBpnSI3mkRnakAAAAtAZ+VakK/AAAOgzrQulOXdB7iVsikVABqUY7vd834tFalLIKjWkz+ZaAfsSIsAAAATUGbmkmoQWyZTAh3//6plgAACQFc0YgCJroCjoEOfRIVTP9Jq8gEtOFWhyWAxCZoRQEh+U8cR6xXi2EBfYRy1gzul4nj/GMjlxSwtnpBAAAAHUGfuEUVLC//AAAKzkqKTHKXXEhAB/YHltL+BUHBAAAAEQGf13RCvwAADoRfIIL2jknAAAAAEgGf2WpCvwAADoM6jD6b1ZgMCQAAADRBm95JqEFsmUwIb//+p4QAABHUy/P+i4FqJnvpIYOiGFusZLHDslcTUYqvfqI8UqRu4epOAAAAO0Gf/EUVLC//AAAKzZ9NWek08AAtV0g6Pr673Gk5h+vuv5/MfakHn2jcokzBleuIhSNQQSG4MVs+alFhAAAAEwGeG3RCvwAADoRebl3HzPAAU0EAAAAqAZ4dakK/AAAOgzsq0h7Q/5sW9EAJpnuEb2wj/At/z/VRFVGK3cWONqmwAAAAHEGaAkmoQWyZTAhv//6nhAAAEdW0pTCOrqQzE+YAAAATQZ4gRRUsL/8AAArM/9cmuBjJOQAAACsBnl90Qr8AAA58JMqkAAuo6G5yeafleJjMSGIHPKqyIPlhzKBBho05Nq2AAAAAEQGeQWpCvwAADoM60EFyQ5JxAAAALUGaRkmoQWyZTAhf//6MsAAARhI1QADjaM7oCWZ38voXVt4zR0o9DX0OO8QrUgAAAC5BnmRFFSwv/wAACrV0L0VAC2WlTpLW/m8IIBpKrFrQ1NVNOn1PygffuYYuirVtAAAAGgGeg3RCvwAADoSwwAC6RfXj8B+V4mvR98WBAAAAGgGehWpCvwAADoWQkQAt0X14/AfleJsJH3xZAAAAIUGah0moQWyZTAhX//44QAABDRVIgBbvxQnlun+hUABVwQAADHNtb292AAAAbG12aGQAAAAAAAAAAAAAAAAAAAPoAAAfQAABAAABAAAAAAAAAAAAAAAAAQAAAAAAAAAAAAAAAAAAAAEAAAAAAAAAAAAAAAAAAEAAAAAAAAAAAAAAAAAAAAAAAAAAAAAAAAAAAAAAAAACAAALnXRyYWsAAABcdGtoZAAAAAMAAAAAAAAAAAAAAAEAAAAAAAAfQAAAAAAAAAAAAAAAAAAAAAAAAQAAAAAAAAAAAAAAAAAAAAEAAAAAAAAAAAAAAAAAAEAAAAACWAAAAZAAAAAAACRlZHRzAAAAHGVsc3QAAAAAAAAAAQAAH0AAAAQAAAEAAAAACxVtZGlhAAAAIG1kaGQAAAAAAAAAAAAAAAAAADIAAAGQAFXEAAAAAAAtaGRscgAAAAAAAAAAdmlkZQAAAAAAAAAAAAAAAFZpZGVvSGFuZGxlcgAAAArAbWluZgAAABR2bWhkAAAAAQAAAAAAAAAAAAAAJGRpbmYAAAAcZHJlZgAAAAAAAAABAAAADHVybCAAAAABAAAKgHN0YmwAAACYc3RzZAAAAAAAAAABAAAAiGF2YzEAAAAAAAAAAQAAAAAAAAAAAAAAAAAAAAACWAGQAEgAAABIAAAAAAAAAAEAAAAAAAAAAAAAAAAAAAAAAAAAAAAAAAAAAAAAAAAAAAAY//8AAAAyYXZjQwH0AB7/4QAaZ/QAHpGbKBMGfE8IAAADAAgAAAMBkHixbLABAAVo6+PESAAAABhzdHRzAAAAAAAAAAEAAADIAAACAAAAABRzdHNzAAAAAAAAAAEAAAABAAAGUGN0dHMAAAAAAAAAyAAAAAEAAAQAAAAAAQAACgAAAAABAAAEAAAAAAEAAAAAAAAAAQAAAgAAAAABAAAKAAAAAAEAAAQAAAAAAQAAAAAAAAABAAACAAAAAAEAAAoAAAAAAQAABAAAAAABAAAAAAAAAAEAAAIAAAAAAQAACgAAAAABAAAEAAAAAAEAAAAAAAAAAQAAAgAAAAABAAAKAAAAAAEAAAQAAAAAAQAAAAAAAAABAAACAAAAAAEAAAoAAAAAAQAABAAAAAABAAAAAAAAAAEAAAIAAAAAAQAACgAAAAABAAAEAAAAAAEAAAAAAAAAAQAAAgAAAAABAAAGAAAAAAEAAAIAAAAAAQAACgAAAAABAAAEAAAAAAEAAAAAAAAAAQAAAgAAAAABAAAKAAAAAAEAAAQAAAAAAQAAAAAAAAABAAACAAAAAAEAAAoAAAAAAQAABAAAAAABAAAAAAAAAAEAAAIAAAAAAQAACgAAAAABAAAEAAAAAAEAAAAAAAAAAQAAAgAAAAABAAAKAAAAAAEAAAQAAAAAAQAAAAAAAAABAAACAAAAAAEAAAoAAAAAAQAABAAAAAABAAAAAAAAAAEAAAIAAAAAAQAACgAAAAABAAAEAAAAAAEAAAAAAAAAAQAAAgAAAAABAAAKAAAAAAEAAAQAAAAAAQAAAAAAAAABAAACAAAAAAEAAAoAAAAAAQAABAAAAAABAAAAAAAAAAEAAAIAAAAAAQAACgAAAAABAAAEAAAAAAEAAAAAAAAAAQAAAgAAAAABAAAKAAAAAAEAAAQAAAAAAQAAAAAAAAABAAACAAAAAAEAAAoAAAAAAQAABAAAAAABAAAAAAAAAAEAAAIAAAAAAQAACgAAAAABAAAEAAAAAAEAAAAAAAAAAQAAAgAAAAABAAAKAAAAAAEAAAQAAAAAAQAAAAAAAAABAAACAAAAAAEAAAoAAAAAAQAABAAAAAABAAAAAAAAAAEAAAIAAAAAAQAACgAAAAABAAAEAAAAAAEAAAAAAAAAAQAAAgAAAAABAAAKAAAAAAEAAAQAAAAAAQAAAAAAAAABAAACAAAAAAEAAAoAAAAAAQAABAAAAAABAAAAAAAAAAEAAAIAAAAAAQAACgAAAAABAAAEAAAAAAEAAAAAAAAAAQAAAgAAAAABAAAKAAAAAAEAAAQAAAAAAQAAAAAAAAABAAACAAAAAAEAAAoAAAAAAQAABAAAAAABAAAAAAAAAAEAAAIAAAAAAQAACgAAAAABAAAEAAAAAAEAAAAAAAAAAQAAAgAAAAABAAAKAAAAAAEAAAQAAAAAAQAAAAAAAAABAAACAAAAAAEAAAoAAAAAAQAABAAAAAABAAAAAAAAAAEAAAIAAAAAAQAACgAAAAABAAAEAAAAAAEAAAAAAAAAAQAAAgAAAAABAAAKAAAAAAEAAAQAAAAAAQAAAAAAAAABAAACAAAAAAEAAAoAAAAAAQAABAAAAAABAAAAAAAAAAEAAAIAAAAAAQAACgAAAAABAAAEAAAAAAEAAAAAAAAAAQAAAgAAAAABAAAKAAAAAAEAAAQAAAAAAQAAAAAAAAABAAACAAAAAAEAAAoAAAAAAQAABAAAAAABAAAAAAAAAAEAAAIAAAAAAQAACgAAAAABAAAEAAAAAAEAAAAAAAAAAQAAAgAAAAABAAAKAAAAAAEAAAQAAAAAAQAAAAAAAAABAAACAAAAAAEAAAoAAAAAAQAABAAAAAABAAAAAAAAAAEAAAIAAAAAAQAACgAAAAABAAAEAAAAAAEAAAAAAAAAAQAAAgAAAAABAAAKAAAAAAEAAAQAAAAAAQAAAAAAAAABAAACAAAAAAEAAAoAAAAAAQAABAAAAAABAAAAAAAAAAEAAAIAAAAAAQAACgAAAAABAAAEAAAAAAEAAAAAAAAAAQAAAgAAAAABAAAKAAAAAAEAAAQAAAAAAQAAAAAAAAABAAACAAAAAAEAAAoAAAAAAQAABAAAAAABAAAAAAAAAAEAAAIAAAAAAQAACgAAAAABAAAEAAAAAAEAAAAAAAAAAQAAAgAAAAABAAAKAAAAAAEAAAQAAAAAAQAAAAAAAAABAAACAAAAAAEAAAoAAAAAAQAABAAAAAABAAAAAAAAAAEAAAIAAAAAAQAABAAAAAAcc3RzYwAAAAAAAAABAAAAAQAAAMgAAAABAAADNHN0c3oAAAAAAAAAAAAAAMgAAATGAAAAtwAAAD4AAAAqAAAAHgAAAGIAAAAmAAAAIwAAAB0AAACKAAAAQAAAADUAAAAdAAAAcgAAADYAAAAgAAAAHwAAAGcAAAA3AAAAIQAAAB0AAACHAAAAOQAAACUAAAAhAAAAbAAAAD4AAAAfAAAAHwAAAGIAAAA0AAAAUQAAADoAAAAhAAAAIQAAAGIAAAAyAAAAIAAAADQAAACBAAAAIwAAAC8AAAAtAAAAeAAAACoAAAAeAAAAFgAAAFIAAAAhAAAARQAAACMAAABsAAAAQQAAACoAAAAdAAAARQAAACIAAAAXAAAAHAAAAFUAAAA0AAAAGwAAAC8AAACYAAAARwAAACIAAAAnAAAAgAAAAEEAAAA/AAAAIgAAAIYAAAA5AAAAGgAAACMAAABFAAAAIgAAABkAAAAZAAAAjgAAACwAAAAfAAAAIAAAAE0AAAA9AAAAMAAAACwAAACMAAAAJAAAAB8AAAAuAAAAQQAAADgAAAAdAAAANAAAAJoAAAAdAAAALgAAABsAAAB4AAAANQAAAD0AAAApAAAAOwAAADYAAAAyAAAAFwAAAHUAAAA/AAAARAAAABwAAACPAAAASAAAAC0AAAAiAAAAVQAAAC4AAAAfAAAALwAAAHwAAAAyAAAAMAAAAB4AAAB/AAAAKwAAACUAAAAeAAAATwAAADgAAAAsAAAAIAAAAHwAAAAZAAAAFQAAABQAAAAvAAAAPgAAAB8AAAAiAAAAeQAAACUAAAAWAAAAGQAAAEEAAAAiAAAAOgAAACwAAAAvAAAAJwAAABYAAAAfAAAAQAAAACUAAAAaAAAAGgAAAD0AAAA2AAAAGgAAACAAAAAoAAAANAAAADEAAAAvAAAAWAAAABgAAAAdAAAAFQAAADIAAAAaAAAAFwAAABcAAABKAAAAMgAAAB0AAAAcAAAARwAAACIAAAArAAAAFgAAACUAAAAuAAAAGgAAADEAAABRAAAAIQAAABUAAAAWAAAAOAAAAD8AAAAXAAAALgAAACAAAAAXAAAALwAAABUAAAAxAAAAMgAAAB4AAAAeAAAAJQAAABRzdGNvAAAAAAAAAAEAAAAwAAAAYnVkdGEAAABabWV0YQAAAAAAAAAhaGRscgAAAAAAAAAAbWRpcmFwcGwAAAAAAAAAAAAAAAAtaWxzdAAAACWpdG9vAAAAHWRhdGEAAAABAAAAAExhdmY1Ny44My4xMDA=\" type=\"video/mp4\" />\n",
              "        </video>"
            ],
            "text/plain": [
              "<IPython.core.display.HTML object>"
            ]
          },
          "metadata": {
            "tags": []
          },
          "execution_count": 31
        }
      ]
    },
    {
      "cell_type": "markdown",
      "metadata": {
        "id": "CSbVNDpaVb3_",
        "colab_type": "text"
      },
      "source": [
        "How does the agent perform? Could you train it for shorter amounts of time and still perform well? Do you think that training longer would help even more? "
      ]
    },
    {
      "cell_type": "markdown",
      "metadata": {
        "id": "Eu6Mqxc720ST",
        "colab_type": "text"
      },
      "source": [
        "#Part 2: Pong\n",
        "\n",
        "In Cartpole, we dealt with an environment that was static -- in other words, it didn't change over time. What happens if our environment is dynamic and unpredictable? Well that's exactly the case in [Pong](https://en.wikipedia.org/wiki/Pong), since part of the environment is the opposing player. We don't know how our opponent will act or react to our actions, so the complexity of our problem increases. It also becomes much more interesting, since we can compete to beat our opponent. RL provides a powerful framework for training AI systems with the ability to handle and interact with dynamic, unpredictable environments. In this part of the lab, we'll use the tools and workflow we explored in Part 1 to build an RL agent capable of playing the game of Pong.\n"
      ]
    },
    {
      "cell_type": "markdown",
      "metadata": {
        "id": "srZ4YE29isuA",
        "colab_type": "text"
      },
      "source": [
        "## 3.6 Define and inspect the Pong environment\n",
        "\n",
        "As with Cartpole, we'll instantiate the Pong environment in the OpenAI gym, using a seed of 1."
      ]
    },
    {
      "cell_type": "code",
      "metadata": {
        "id": "lbYHLr66i15n",
        "colab_type": "code",
        "colab": {}
      },
      "source": [
        "env = gym.make(\"Pong-v0\", frameskip=5)\n",
        "env.seed(1); # for reproducibility"
      ],
      "execution_count": 0,
      "outputs": []
    },
    {
      "cell_type": "markdown",
      "metadata": {
        "id": "52uZ2Xhyi-MW",
        "colab_type": "text"
      },
      "source": [
        "Let's next consider the observation space for the Pong environment. Instead of four physical descriptors of the cart-pole setup, in the case of Pong our observations are the individual video frames (i.e., images) that depict the state of the board. Thus, the observations are 210x160 RGB images (arrays of shape (210,160,3)).\n",
        "\n",
        "We can again confirm the size of the observation space by query:"
      ]
    },
    {
      "cell_type": "code",
      "metadata": {
        "id": "0yX4GWvxjnHS",
        "colab_type": "code",
        "colab": {
          "base_uri": "https://localhost:8080/",
          "height": 35
        },
        "outputId": "ce51a257-169c-411e-fcac-a6c94b60021a"
      },
      "source": [
        "print(\"Environment has observation space =\", env.observation_space)"
      ],
      "execution_count": 33,
      "outputs": [
        {
          "output_type": "stream",
          "text": [
            "Environment has observation space = Box(210, 160, 3)\n"
          ],
          "name": "stdout"
        }
      ]
    },
    {
      "cell_type": "markdown",
      "metadata": {
        "id": "uuEC2TdSjx9D",
        "colab_type": "text"
      },
      "source": [
        "In Pong, at every time step, the agent (which controls the paddle) has six actions to choose from: no-op (no operation), move right, move left, fire, fire right, and fire left. Let's confirm the size of the action space by querying the environment:"
      ]
    },
    {
      "cell_type": "code",
      "metadata": {
        "id": "Iuy9oPc1kag3",
        "colab_type": "code",
        "colab": {
          "base_uri": "https://localhost:8080/",
          "height": 35
        },
        "outputId": "6bf7dbe7-58f3-4863-ab96-3d042ead6b94"
      },
      "source": [
        "n_actions = env.action_space.n\n",
        "print(\"Number of possible actions that the agent can choose from =\", n_actions)"
      ],
      "execution_count": 34,
      "outputs": [
        {
          "output_type": "stream",
          "text": [
            "Number of possible actions that the agent can choose from = 6\n"
          ],
          "name": "stdout"
        }
      ]
    },
    {
      "cell_type": "markdown",
      "metadata": {
        "id": "9-fghDRigUE5",
        "colab_type": "text"
      },
      "source": [
        "## 3.7 Define the Pong agent\n",
        "\n",
        "As before, we'll use a neural network to define our agent. What network architecture do you think would be especially well suited to this game? Since our observations are now in the form of images, we'll add convolutional layers to the network to increase the learning capacity of our network."
      ]
    },
    {
      "cell_type": "code",
      "metadata": {
        "id": "IJiqbFYpgYRH",
        "colab_type": "code",
        "colab": {}
      },
      "source": [
        "### Define the Pong agent ###\n",
        "\n",
        "# Functionally define layers for convenience\n",
        "# All convolutional layers will have ReLu activation\n",
        "Conv2D = functools.partial(tf.keras.layers.Conv2D, padding='same', activation='relu')\n",
        "Flatten = tf.keras.layers.Flatten\n",
        "Dense = tf.keras.layers.Dense\n",
        "\n",
        "# Defines a CNN for the Pong agent\n",
        "def create_pong_model():\n",
        "  model = tf.keras.models.Sequential([\n",
        "    # Convolutional layers\n",
        "    # First, 16 7x7 filters with 4x4 stride\n",
        "    Conv2D(filters=16, kernel_size=7, strides=4),\n",
        "\n",
        "    # TODO: define convolutional layers with 32 5x5 filters and 2x2 stride\n",
        "    Conv2D(filters=32, kernel_size=5, strides=2),\n",
        "\n",
        "    # TODO: define convolutional layers with 48 3x3 filters and 2x2 stride\n",
        "    Conv2D(filters=48, kernel_size=3, strides=2),\n",
        "\n",
        "    Flatten(),\n",
        "    \n",
        "    # Fully connected layer and output\n",
        "    Dense(units=64, activation='relu'),\n",
        "    # TODO: define the output dimension of the last Dense layer. \n",
        "    # Pay attention to the space the agent needs to act in\n",
        "    Dense(units=n_actions, activation=None)\n",
        "  \n",
        "  ])\n",
        "  return model\n",
        "\n",
        "pong_model = create_pong_model()"
      ],
      "execution_count": 0,
      "outputs": []
    },
    {
      "cell_type": "markdown",
      "metadata": {
        "id": "yaeZ067olFiJ",
        "colab_type": "text"
      },
      "source": [
        "Since we've already defined the action function, `choose_action(model, observation)`, we don't need to define it again. Instead, we'll be able to reuse it later on by passing in our new model we've just created, `pong_model`. This is awesome because our action function provides a modular and generalizable method for all sorts of RL agents!"
      ]
    },
    {
      "cell_type": "markdown",
      "metadata": {
        "id": "l0RvqOVkmc2r",
        "colab_type": "text"
      },
      "source": [
        "## 3.8 Pong-specific functions\n",
        "\n",
        "In Part 1 (Cartpole), we implemented some key functions and classes to build and train our RL agent -- `choose_action(model, observation)` and the `Memory` class, for example. However, in getting ready to apply these to a new game like Pong, we might need to make some slight modifications. \n",
        "\n",
        "Namely, we need to think about what happens when a game ends. In Pong, we know a game has ended if the reward is +1 (we won!) or -1 (we lost unfortunately). Otherwise, we expect the reward at a timestep to be zero -- the players (or agents) are just playing eachother. So, after a game ends, we will need to reset the reward to zero when a game ends. This will result in a modified reward function."
      ]
    },
    {
      "cell_type": "code",
      "metadata": {
        "id": "iEZG2o50luLu",
        "colab_type": "code",
        "colab": {}
      },
      "source": [
        "### Pong reward function ###\n",
        "\n",
        "# Compute normalized, discounted rewards for Pong (i.e., return)\n",
        "# Arguments:\n",
        "#   rewards: reward at timesteps in episode\n",
        "#   gamma: discounting factor. Note increase to 0.99 -- rate of depreciation will be slower.\n",
        "# Returns:\n",
        "#   normalized discounted reward\n",
        "def discount_rewards(rewards, gamma=0.99): \n",
        "  discounted_rewards = np.zeros_like(rewards)\n",
        "  R = 0\n",
        "  for t in reversed(range(0, len(rewards))):\n",
        "      # NEW: Reset the sum if the reward is not 0 (the game has ended!)\n",
        "      if rewards[t] != 0:\n",
        "        R = 0\n",
        "      # update the total discounted reward as before\n",
        "      R = R * gamma + rewards[t]\n",
        "      discounted_rewards[t] = R\n",
        "      \n",
        "  return normalize(discounted_rewards)"
      ],
      "execution_count": 0,
      "outputs": []
    },
    {
      "cell_type": "markdown",
      "metadata": {
        "id": "HopLpb4IoOqA",
        "colab_type": "text"
      },
      "source": [
        "Additionally, we have to consider the nature of the observations in the Pong environment, and how they will be fed into our network. Our observations in this case are images. Before we input an image into our network, we'll do a bit of pre-processing to crop and scale, clean up the background colors to a single color, and set the important game elements to a single color. Let's use this function to visualize what an observation might look like before and after pre-processing."
      ]
    },
    {
      "cell_type": "code",
      "metadata": {
        "id": "no5IIYtFm8pI",
        "colab_type": "code",
        "colab": {
          "base_uri": "https://localhost:8080/",
          "height": 227
        },
        "outputId": "d87ff3d8-b12a-4646-f1a6-f4dda07357d6"
      },
      "source": [
        "observation = env.reset()\n",
        "for i in range(30):\n",
        "  observation, _,_,_ = env.step(0)\n",
        "observation_pp = mdl.lab3.preprocess_pong(observation)\n",
        "\n",
        "f = plt.figure(figsize=(10,3))\n",
        "ax = f.add_subplot(121)\n",
        "ax2 = f.add_subplot(122)\n",
        "ax.imshow(observation); ax.grid(False);\n",
        "ax2.imshow(np.squeeze(observation_pp)); ax2.grid(False); plt.title('Preprocessed Observation');"
      ],
      "execution_count": 37,
      "outputs": [
        {
          "output_type": "display_data",
          "data": {
            "image/png": "[encoded data removed]",
            "text/plain": [
              "<Figure size 720x216 with 2 Axes>"
            ]
          },
          "metadata": {
            "tags": [],
            "needs_background": "light"
          }
        }
      ]
    },
    {
      "cell_type": "markdown",
      "metadata": {
        "id": "bYwIWC-Cz8F2",
        "colab_type": "text"
      },
      "source": [
        "What do you notice? How might these changes be important for training our RL algorithm?"
      ]
    },
    {
      "cell_type": "markdown",
      "metadata": {
        "id": "mRqcaDQ1pm3x",
        "colab_type": "text"
      },
      "source": [
        "## 3.9 Training Pong\n",
        "\n",
        "We're now all set up to start training our RL algorithm and agent for the game of Pong! We've already defined our loss function with `compute_loss`, which employs policy gradient learning, as well as our backpropagation step with `train_step` which is beautiful! We will use these functions to execute training the Pong agent. Let's walk through the training block.\n",
        "\n",
        "In Pong, rather than feeding our network one image at a time, it can actually improve performance to input the difference between two consecutive observations, which really gives us information about the movement between frames -- how the game is changing. We'll first pre-process the raw observation, `x`, and then we'll compute the difference with the image frame we saw one timestep before. \n",
        "\n",
        "This observation change will be forward propagated through our Pong agent, the CNN network model, which will then predict the next action to take based on this observation. The raw reward will be computed, and the observation, action, and reward will be recorded into memory. This will continue until a training episode, i.e., a game, ends.\n",
        "\n",
        "Then, we will compute the discounted rewards, and use this information to execute a training step. Memory will be cleared, and we will do it all over again!\n",
        "\n",
        "Let's run the code block to train our Pong agent. Note that completing training will take quite a bit of time (estimated at least a couple of hours). We will again visualize the evolution of the total reward as a function of training to get a sense of how the agent is learning."
      ]
    },
    {
      "cell_type": "code",
      "metadata": {
        "id": "xCwyQQrPnkZG",
        "colab_type": "code",
        "colab": {
          "base_uri": "https://localhost:8080/",
          "height": 279
        },
        "outputId": "c11a3b87-f5d9-4986-d040-3b60eb28ac3c"
      },
      "source": [
        "### Training Pong ###\n",
        "\n",
        "# Hyperparameters\n",
        "learning_rate=1e-4\n",
        "MAX_ITERS = 10000 # increase the maximum number of episodes, since Pong is more complex!\n",
        "\n",
        "# Model and optimizer\n",
        "pong_model = create_pong_model()\n",
        "optimizer = tf.keras.optimizers.Adam(learning_rate)\n",
        "\n",
        "# plotting\n",
        "smoothed_reward = mdl.util.LossHistory(smoothing_factor=0.9)\n",
        "plotter = mdl.util.PeriodicPlotter(sec=5, xlabel='Iterations', ylabel='Rewards')\n",
        "memory = Memory()\n",
        "\n",
        "for i_episode in range(MAX_ITERS):\n",
        "\n",
        "  plotter.plot(smoothed_reward.get())\n",
        "\n",
        "  # Restart the environment\n",
        "  observation = env.reset()\n",
        "  previous_frame = mdl.lab3.preprocess_pong(observation)\n",
        "\n",
        "  while True:\n",
        "      # Pre-process image \n",
        "      current_frame = mdl.lab3.preprocess_pong(observation)\n",
        "      \n",
        "      '''TODO: determine the observation change\n",
        "      Hint: this is the difference between the past two frames'''\n",
        "      obs_change = current_frame - previous_frame\n",
        "      \n",
        "      '''TODO: choose an action for the pong model, using the frame difference, and evaluate'''\n",
        "      action = choose_action(pong_model, obs_change)\n",
        "      # Take the chosen action\n",
        "      next_observation, reward, done, info = env.step(action)\n",
        "\n",
        "      '''TODO: save the observed frame difference, the action that was taken, and the resulting reward!'''\n",
        "      memory.add_to_memory(obs_change, action, reward)\n",
        "      \n",
        "      # is the episode over? did you crash or do so well that you're done?\n",
        "      if done:\n",
        "          # determine total reward and keep a record of this\n",
        "          total_reward = sum(memory.rewards)\n",
        "          smoothed_reward.append( total_reward )\n",
        "\n",
        "          # begin training\n",
        "          train_step(pong_model, \n",
        "                     optimizer, \n",
        "                     observations = np.stack(memory.observations, 0), \n",
        "                     actions = np.array(memory.actions),\n",
        "                     discounted_rewards = discount_rewards(memory.rewards))\n",
        "          \n",
        "          memory.clear()\n",
        "          break\n",
        "\n",
        "      observation = next_observation\n",
        "      previous_frame = current_frame"
      ],
      "execution_count": 0,
      "outputs": [
        {
          "output_type": "display_data",
          "data": {
            "image/png": "[encoded data removed]",
            "text/plain": [
              "<Figure size 432x288 with 1 Axes>"
            ]
          },
          "metadata": {
            "tags": []
          }
        }
      ]
    },
    {
      "cell_type": "markdown",
      "metadata": {
        "id": "8LiEY5Y_ts-Z",
        "colab_type": "text"
      },
      "source": [
        "Finally we can put our trained agent to the test! It will play in a newly instantiated Pong environment against the \"computer\", a base AI system for Pong. Your agent plays as the green paddle. Let's watch the match instant replay!"
      ]
    },
    {
      "cell_type": "code",
      "metadata": {
        "id": "TvHXbkL0tR6M",
        "colab_type": "code",
        "colab": {}
      },
      "source": [
        "saved_pong = mdl.lab3.save_video_of_model(\n",
        "    pong_model, \"Pong-v0\", obs_diff=True, \n",
        "    pp_fn=mdl.lab3.preprocess_pong)\n",
        "mdl.lab3.play_video(saved_pong)"
      ],
      "execution_count": 0,
      "outputs": []
    },
    {
      "cell_type": "markdown",
      "metadata": {
        "id": "TIlwIgBP3Js6",
        "colab_type": "text"
      },
      "source": [
        "## 3.10 Conclusion\n",
        "\n",
        "That's it! Congratulations on training two RL agents and putting them to the test! We encourage you to consider the following:\n",
        "\n",
        "*   How does the agent perform?\n",
        "*   Could you train it for shorter amounts of time  and still perform well?\n",
        "*   Do you think that training longer would help even more? \n",
        "* How does the complexity of Pong relative to Cartpole alter the rate at which the agent learns and its performance? \n",
        "* What are some things you could change about the agent or the learning process to potentially improve performance?\n",
        "\n",
        "If you want to go further, try to optimize your model to achieve the best performance! **[Email us](mailto:introtodeeplearning-staff@mit.edu) a copy of your notebook with the Pong training executed AND a saved video of your Pong agent competing! We'll give out prizes to the best performers!**"
      ]
    }
  ]
}