{
  "nbformat": 4,
  "nbformat_minor": 0,
  "metadata": {
    "colab": {
      "name": "Lab5.ipynb",
      "provenance": [],
      "collapsed_sections": [],
      "authorship_tag": "ABX9TyM0Xt0HYHPUDwgwvu6sPNWA",
      "include_colab_link": true
    },
    "kernelspec": {
      "name": "python3",
      "display_name": "Python 3"
    }
  },
  "cells": [
    {
      "cell_type": "markdown",
      "metadata": {
        "id": "view-in-github",
        "colab_type": "text"
      },
      "source": [
        "<a href=\"https://colab.research.google.com/github/diegovrosales/SP1_Laboratorios/blob/master/Lab5.ipynb\" target=\"_parent\"><img src=\"https://colab.research.google.com/assets/colab-badge.svg\" alt=\"Open In Colab\"/></a>"
      ]
    },
    {
      "cell_type": "code",
      "metadata": {
        "id": "J67iqZ_ri3kN",
        "colab_type": "code",
        "colab": {}
      },
      "source": [
        "%tensorflow_version 2.x\n",
        "\n",
        "import tensorflow as tf\n",
        "import tensorflow_hub as hub\n",
        "import tensorflow_datasets as tfds\n",
        "\n",
        "import functools, re, string\n",
        "from __future__ import absolute_import, division, print_function, unicode_literals\n",
        "\n",
        "from tensorflow.keras.preprocessing.text import Tokenizer\n",
        "from sklearn.feature_extraction.text import CountVectorizer\n",
        "from tensorflow.keras.models import Sequential\n",
        "from tensorflow.keras.layers import Dense, Embedding, Bidirectional, LSTM, Dropout, Conv1D, MaxPooling1D, GRU,SpatialDropout1D\n",
        "from tensorflow.keras.preprocessing.sequence import pad_sequences\n",
        "\n",
        "import numpy as np\n",
        "from numpy.random import RandomState\n",
        "import matplotlib.pylab as plt\n",
        "\n",
        "import pandas as pd\n",
        "from sklearn.model_selection import train_test_split\n",
        "\n",
        "#dark mode\n",
        "plt.rc_context({'xtick.color':'w', 'ytick.color':'w', 'text.color':'w', 'axes.labelcolor':'w'})\n",
        "\n",
        "seed=1234\n",
        "np.random.seed(seed)\n",
        "tf.random.set_seed(seed)"
      ],
      "execution_count": 0,
      "outputs": []
    },
    {
      "cell_type": "code",
      "metadata": {
        "id": "4_ZCLzwXEEf5",
        "colab_type": "code",
        "colab": {}
      },
      "source": [
        "def punctuation_removal(messy_str):\n",
        "    clean_list = [char for char in messy_str if char not in string.punctuation]\n",
        "    clean_str = ''.join(clean_list)\n",
        "    return clean_str"
      ],
      "execution_count": 0,
      "outputs": []
    },
    {
      "cell_type": "code",
      "metadata": {
        "id": "zoae_RYBo2NB",
        "colab_type": "code",
        "colab": {
          "base_uri": "https://localhost:8080/",
          "height": 306
        },
        "outputId": "06d4bfa3-2a11-4bfe-e930-c7a87f132d19"
      },
      "source": [
        "data_url = \"https://raw.githubusercontent.com/diegovrosales/SP1_Laboratorios/master/Womens%20Clothing%20E-Commerce%20Reviews2.csv\"\n",
        "ereviews = pd.read_csv(data_url)\n",
        "text_df = ereviews[['Title', 'ReviewText', 'RecommendedIND']]\n",
        "\n",
        "text_df['Review'] = text_df['Title'] + ' ' + text_df['ReviewText']\n",
        "text_df = text_df.drop(labels=['Title','ReviewText'] , axis=1)\n",
        "text_df.head()"
      ],
      "execution_count": 143,
      "outputs": [
        {
          "output_type": "stream",
          "text": [
            "/usr/local/lib/python3.6/dist-packages/ipykernel_launcher.py:5: SettingWithCopyWarning: \n",
            "A value is trying to be set on a copy of a slice from a DataFrame.\n",
            "Try using .loc[row_indexer,col_indexer] = value instead\n",
            "\n",
            "See the caveats in the documentation: http://pandas.pydata.org/pandas-docs/stable/user_guide/indexing.html#returning-a-view-versus-a-copy\n",
            "  \"\"\"\n"
          ],
          "name": "stderr"
        },
        {
          "output_type": "execute_result",
          "data": {
            "text/html": [
              "<div>\n",
              "<style scoped>\n",
              "    .dataframe tbody tr th:only-of-type {\n",
              "        vertical-align: middle;\n",
              "    }\n",
              "\n",
              "    .dataframe tbody tr th {\n",
              "        vertical-align: top;\n",
              "    }\n",
              "\n",
              "    .dataframe thead th {\n",
              "        text-align: right;\n",
              "    }\n",
              "</style>\n",
              "<table border=\"1\" class=\"dataframe\">\n",
              "  <thead>\n",
              "    <tr style=\"text-align: right;\">\n",
              "      <th></th>\n",
              "      <th>RecommendedIND</th>\n",
              "      <th>Review</th>\n",
              "    </tr>\n",
              "  </thead>\n",
              "  <tbody>\n",
              "    <tr>\n",
              "      <th>0</th>\n",
              "      <td>1</td>\n",
              "      <td>NaN</td>\n",
              "    </tr>\n",
              "    <tr>\n",
              "      <th>1</th>\n",
              "      <td>1</td>\n",
              "      <td>NaN</td>\n",
              "    </tr>\n",
              "    <tr>\n",
              "      <th>2</th>\n",
              "      <td>0</td>\n",
              "      <td>Some major design flaws I had such high hopes ...</td>\n",
              "    </tr>\n",
              "    <tr>\n",
              "      <th>3</th>\n",
              "      <td>1</td>\n",
              "      <td>My favorite buy! I love, love, love this jumps...</td>\n",
              "    </tr>\n",
              "    <tr>\n",
              "      <th>4</th>\n",
              "      <td>1</td>\n",
              "      <td>Flattering shirt This shirt is very flattering...</td>\n",
              "    </tr>\n",
              "  </tbody>\n",
              "</table>\n",
              "</div>"
            ],
            "text/plain": [
              "   RecommendedIND                                             Review\n",
              "0               1                                                NaN\n",
              "1               1                                                NaN\n",
              "2               0  Some major design flaws I had such high hopes ...\n",
              "3               1  My favorite buy! I love, love, love this jumps...\n",
              "4               1  Flattering shirt This shirt is very flattering..."
            ]
          },
          "metadata": {
            "tags": []
          },
          "execution_count": 143
        }
      ]
    },
    {
      "cell_type": "code",
      "metadata": {
        "id": "uSN7GJEtE5ky",
        "colab_type": "code",
        "colab": {
          "base_uri": "https://localhost:8080/",
          "height": 34
        },
        "outputId": "e4908377-9a9c-4f26-8b80-97eabbae3e1c"
      },
      "source": [
        "text_df.Review.isna().sum()"
      ],
      "execution_count": 144,
      "outputs": [
        {
          "output_type": "execute_result",
          "data": {
            "text/plain": [
              "3811"
            ]
          },
          "metadata": {
            "tags": []
          },
          "execution_count": 144
        }
      ]
    },
    {
      "cell_type": "code",
      "metadata": {
        "id": "H4E_MSNLE7g8",
        "colab_type": "code",
        "colab": {
          "base_uri": "https://localhost:8080/",
          "height": 221
        },
        "outputId": "ed7a0935-ce60-41f9-8340-b0768015a1a3"
      },
      "source": [
        "text_df = text_df[~text_df.Review.isna()]\n",
        "text_df = text_df.rename(columns={\"Recommended IND\": \"Recommended\"})\n",
        "print(\"My data's shape is:\", text_df.shape)\n",
        "text_df.head()"
      ],
      "execution_count": 145,
      "outputs": [
        {
          "output_type": "stream",
          "text": [
            "My data's shape is: (19675, 2)\n"
          ],
          "name": "stdout"
        },
        {
          "output_type": "execute_result",
          "data": {
            "text/html": [
              "<div>\n",
              "<style scoped>\n",
              "    .dataframe tbody tr th:only-of-type {\n",
              "        vertical-align: middle;\n",
              "    }\n",
              "\n",
              "    .dataframe tbody tr th {\n",
              "        vertical-align: top;\n",
              "    }\n",
              "\n",
              "    .dataframe thead th {\n",
              "        text-align: right;\n",
              "    }\n",
              "</style>\n",
              "<table border=\"1\" class=\"dataframe\">\n",
              "  <thead>\n",
              "    <tr style=\"text-align: right;\">\n",
              "      <th></th>\n",
              "      <th>RecommendedIND</th>\n",
              "      <th>Review</th>\n",
              "    </tr>\n",
              "  </thead>\n",
              "  <tbody>\n",
              "    <tr>\n",
              "      <th>2</th>\n",
              "      <td>0</td>\n",
              "      <td>Some major design flaws I had such high hopes ...</td>\n",
              "    </tr>\n",
              "    <tr>\n",
              "      <th>3</th>\n",
              "      <td>1</td>\n",
              "      <td>My favorite buy! I love, love, love this jumps...</td>\n",
              "    </tr>\n",
              "    <tr>\n",
              "      <th>4</th>\n",
              "      <td>1</td>\n",
              "      <td>Flattering shirt This shirt is very flattering...</td>\n",
              "    </tr>\n",
              "    <tr>\n",
              "      <th>5</th>\n",
              "      <td>0</td>\n",
              "      <td>Not for the very petite I love tracy reese dre...</td>\n",
              "    </tr>\n",
              "    <tr>\n",
              "      <th>6</th>\n",
              "      <td>1</td>\n",
              "      <td>Cagrcoal shimmer fun I aded this in my basket ...</td>\n",
              "    </tr>\n",
              "  </tbody>\n",
              "</table>\n",
              "</div>"
            ],
            "text/plain": [
              "   RecommendedIND                                             Review\n",
              "2               0  Some major design flaws I had such high hopes ...\n",
              "3               1  My favorite buy! I love, love, love this jumps...\n",
              "4               1  Flattering shirt This shirt is very flattering...\n",
              "5               0  Not for the very petite I love tracy reese dre...\n",
              "6               1  Cagrcoal shimmer fun I aded this in my basket ..."
            ]
          },
          "metadata": {
            "tags": []
          },
          "execution_count": 145
        }
      ]
    },
    {
      "cell_type": "code",
      "metadata": {
        "id": "Ud0jE8FWFHnx",
        "colab_type": "code",
        "colab": {}
      },
      "source": [
        "text_df['Review'] = text_df['Review'].apply(lambda x: x.lower())\n",
        "text_df['Review'] = text_df['Review'].apply((lambda x: re.sub('[^a-zA-z0-9\\s]','',x)))"
      ],
      "execution_count": 0,
      "outputs": []
    },
    {
      "cell_type": "code",
      "metadata": {
        "id": "W2aMeEn55q6v",
        "colab_type": "code",
        "colab": {}
      },
      "source": [
        "max_fatures = 2000\n",
        "tokenizer = Tokenizer(num_words=max_fatures, split=' ')\n",
        "tokenizer.fit_on_texts(text_df['Review'].values)\n",
        "X = tokenizer.texts_to_sequences(text_df['Review'].values)\n",
        "X = pad_sequences(X)"
      ],
      "execution_count": 0,
      "outputs": []
    },
    {
      "cell_type": "code",
      "metadata": {
        "id": "ndxr9s5t52dl",
        "colab_type": "code",
        "colab": {}
      },
      "source": [
        "rng = RandomState()\n",
        "train = text_df.sample(frac=0.7, random_state=rng)\n",
        "test = text_df.loc[~text_df.index.isin(train.index)]\n"
      ],
      "execution_count": 0,
      "outputs": []
    },
    {
      "cell_type": "code",
      "metadata": {
        "id": "7Q_ILwQpFX7C",
        "colab_type": "code",
        "colab": {
          "base_uri": "https://localhost:8080/",
          "height": 289
        },
        "outputId": "f49b42f8-3d7f-48c7-f59b-7eff59d79fe3"
      },
      "source": [
        "embed_dim = 128\n",
        "lstm_out = 196\n",
        "max_fatures = 2000\n",
        "\n",
        "model = Sequential([\n",
        "    Embedding(max_fatures, embed_dim,input_length = X.shape[1]),\n",
        "    SpatialDropout1D(0.4),\n",
        "    LSTM(lstm_out, dropout=0.2, recurrent_dropout=0.2),\n",
        "    Dense(2,activation='softmax')\n",
        "])\n",
        "\n",
        "model.compile(loss = 'categorical_crossentropy', optimizer='adam',metrics = ['accuracy'])\n",
        "\n",
        "model.summary()"
      ],
      "execution_count": 205,
      "outputs": [
        {
          "output_type": "stream",
          "text": [
            "Model: \"sequential_8\"\n",
            "_________________________________________________________________\n",
            "Layer (type)                 Output Shape              Param #   \n",
            "=================================================================\n",
            "embedding_9 (Embedding)      (None, 117, 128)          256000    \n",
            "_________________________________________________________________\n",
            "spatial_dropout1d_6 (Spatial (None, 117, 128)          0         \n",
            "_________________________________________________________________\n",
            "lstm_8 (LSTM)                (None, 196)               254800    \n",
            "_________________________________________________________________\n",
            "dense_8 (Dense)              (None, 2)                 394       \n",
            "=================================================================\n",
            "Total params: 511,194\n",
            "Trainable params: 511,194\n",
            "Non-trainable params: 0\n",
            "_________________________________________________________________\n"
          ],
          "name": "stdout"
        }
      ]
    },
    {
      "cell_type": "code",
      "metadata": {
        "id": "dl9mnJXFLHCk",
        "colab_type": "code",
        "colab": {
          "base_uri": "https://localhost:8080/",
          "height": 51
        },
        "outputId": "63122bbb-a92f-4d38-b5c5-1f2812416478"
      },
      "source": [
        "Y = pd.get_dummies(text_df['RecommendedIND']).values\n",
        "X_train, X_test, Y_train, Y_test = train_test_split(X,Y, test_size = 0.6, random_state = 42)\n",
        "print(X_train.shape,Y_train.shape)\n",
        "print(X_test.shape,Y_test.shape)"
      ],
      "execution_count": 211,
      "outputs": [
        {
          "output_type": "stream",
          "text": [
            "(7870, 117) (7870, 2)\n",
            "(11805, 117) (11805, 2)\n"
          ],
          "name": "stdout"
        }
      ]
    },
    {
      "cell_type": "code",
      "metadata": {
        "id": "b4Ps5RZqLABu",
        "colab_type": "code",
        "colab": {
          "base_uri": "https://localhost:8080/",
          "height": 272
        },
        "outputId": "8c6be064-03b5-431c-da5d-02c04ba5b215"
      },
      "source": [
        "batch_size = 32\n",
        "trained = model.fit(X_train, Y_train, epochs = 7, batch_size=batch_size, verbose = 2)"
      ],
      "execution_count": 212,
      "outputs": [
        {
          "output_type": "stream",
          "text": [
            "Train on 7870 samples\n",
            "Epoch 1/7\n",
            "7870/7870 - 155s - loss: 0.1476 - accuracy: 0.9427\n",
            "Epoch 2/7\n",
            "7870/7870 - 155s - loss: 0.1253 - accuracy: 0.9525\n",
            "Epoch 3/7\n",
            "7870/7870 - 157s - loss: 0.1161 - accuracy: 0.9536\n",
            "Epoch 4/7\n",
            "7870/7870 - 155s - loss: 0.1043 - accuracy: 0.9604\n",
            "Epoch 5/7\n",
            "7870/7870 - 154s - loss: 0.0916 - accuracy: 0.9677\n",
            "Epoch 6/7\n",
            "7870/7870 - 154s - loss: 0.0828 - accuracy: 0.9693\n",
            "Epoch 7/7\n",
            "7870/7870 - 155s - loss: 0.0728 - accuracy: 0.9750\n"
          ],
          "name": "stdout"
        }
      ]
    },
    {
      "cell_type": "code",
      "metadata": {
        "id": "jRFA9Q-x7SY4",
        "colab_type": "code",
        "colab": {
          "base_uri": "https://localhost:8080/",
          "height": 34
        },
        "outputId": "1384881f-aa13-4f85-df79-8611209fdd34"
      },
      "source": [
        "reverse_word_map = dict(map(reversed, tokenizer.word_index.items()))\n",
        "vocab_size = len(tokenizer.word_index) + 1\n",
        "vocab_size"
      ],
      "execution_count": 94,
      "outputs": [
        {
          "output_type": "execute_result",
          "data": {
            "text/plain": [
              "11795"
            ]
          },
          "metadata": {
            "tags": []
          },
          "execution_count": 94
        }
      ]
    },
    {
      "cell_type": "code",
      "metadata": {
        "id": "nniSG6ZwZLfJ",
        "colab_type": "code",
        "colab": {}
      },
      "source": [
        "def plot_accuracy_and_loss(history):\n",
        "  acc = history.history['accuracy']\n",
        "  val_acc = history.history['val_accuracy']\n",
        "\n",
        "  loss = history.history['loss']\n",
        "  val_loss = history.history['val_loss']\n",
        "\n",
        "  plt.figure(figsize=(10, 10))\n",
        "  plt.subplot(2, 1, 1)\n",
        "  plt.plot(acc, label='Training Accuracy')\n",
        "  plt.plot(val_acc, label='Validation Accuracy')\n",
        "  plt.legend(loc='lower right')\n",
        "  plt.setp(plt.legend().get_texts(), color='black')\n",
        "  plt.ylabel('Accuracy')\n",
        "  plt.ylim([min(plt.ylim()),1.0])\n",
        "  plt.title('Training and Validation Accuracy')\n",
        "\n",
        "  plt.subplot(2, 1, 2)\n",
        "  plt.plot(loss, label='Training Loss')\n",
        "  plt.plot(val_loss, label='Validation Loss')\n",
        "  plt.legend(loc='upper right')\n",
        "  plt.setp(plt.legend().get_texts(), color='black')\n",
        "  plt.ylabel('Cross Entropy')\n",
        "  plt.ylim([0.0,1.0])\n",
        "  plt.title('Training and Validation Loss')\n",
        "  plt.xlabel('epoch')\n",
        "  plt.show()"
      ],
      "execution_count": 0,
      "outputs": []
    },
    {
      "cell_type": "code",
      "metadata": {
        "id": "-IGyGjlFZQjS",
        "colab_type": "code",
        "colab": {
          "base_uri": "https://localhost:8080/",
          "height": 255
        },
        "outputId": "6935a678-d9d1-4b0c-f077-4be7f6b06744"
      },
      "source": [
        "history = trained\n",
        "history.history"
      ],
      "execution_count": 218,
      "outputs": [
        {
          "output_type": "execute_result",
          "data": {
            "text/plain": [
              "{'accuracy': [0.94269377,\n",
              "  0.95247775,\n",
              "  0.9536213,\n",
              "  0.96035576,\n",
              "  0.9677255,\n",
              "  0.9692503,\n",
              "  0.97496825],\n",
              " 'loss': [0.1476441457697215,\n",
              "  0.12529569257055487,\n",
              "  0.1161162201300964,\n",
              "  0.1043146302864391,\n",
              "  0.09161811234498114,\n",
              "  0.08281089277249279,\n",
              "  0.07282064121590484]}"
            ]
          },
          "metadata": {
            "tags": []
          },
          "execution_count": 218
        }
      ]
    }
  ]
}