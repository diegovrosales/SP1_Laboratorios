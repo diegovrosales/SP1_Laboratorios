{
  "nbformat": 4,
  "nbformat_minor": 0,
  "metadata": {
    "colab": {
      "name": "LAB3.ipynb",
      "provenance": [],
      "collapsed_sections": [],
      "authorship_tag": "ABX9TyNy7YxaT691UfhjT0RnF9+r",
      "include_colab_link": true
    },
    "kernelspec": {
      "name": "python3",
      "display_name": "Python 3"
    }
  },
  "cells": [
    {
      "cell_type": "markdown",
      "metadata": {
        "id": "view-in-github",
        "colab_type": "text"
      },
      "source": [
        "<a href=\"https://colab.research.google.com/github/diegovrosales/SP1_Laboratorios/blob/master/LAB3.ipynb\" target=\"_parent\"><img src=\"https://colab.research.google.com/assets/colab-badge.svg\" alt=\"Open In Colab\"/></a>"
      ]
    },
    {
      "cell_type": "code",
      "metadata": {
        "id": "8G0l4De4KxE6",
        "colab_type": "code",
        "outputId": "d00f9116-f728-4cab-cc91-864299aaf431",
        "colab": {
          "base_uri": "https://localhost:8080/",
          "height": 34
        }
      },
      "source": [
        "%tensorflow_version 2.x\n",
        "\n",
        "import tensorflow as tf\n",
        "import tensorflow_hub as hub\n",
        "\n",
        "from tensorflow.keras.preprocessing.text import Tokenizer\n",
        "from tensorflow.keras.preprocessing.sequence import pad_sequences\n",
        "\n",
        "from tensorflow.keras.models import Sequential\n",
        "from tensorflow.keras.layers import Dense, Embedding, Flatten, GlobalAveragePooling1D\n",
        "\n",
        "import numpy as np\n",
        "import pandas as pd\n",
        "import matplotlib.pylab as plt\n",
        "import os, re, json, functools\n",
        "\n",
        "#dark mode\n",
        "plt.rc_context({'xtick.color':'w', 'ytick.color':'w', 'text.color':'w', 'axes.labelcolor':'w'})\n",
        "\n",
        "seed=1234\n",
        "np.random.seed(seed)\n",
        "tf.random.set_seed(seed)"
      ],
      "execution_count": 0,
      "outputs": [
        {
          "output_type": "stream",
          "text": [
            "TensorFlow 2.x selected.\n"
          ],
          "name": "stdout"
        }
      ]
    },
    {
      "cell_type": "code",
      "metadata": {
        "id": "-NxOzaDhUStd",
        "colab_type": "code",
        "outputId": "c4224d77-3908-46db-cb17-0dbf5a0fb9ed",
        "colab": {
          "base_uri": "https://localhost:8080/",
          "height": 204
        }
      },
      "source": [
        "pip install kaggle --upgrade"
      ],
      "execution_count": 0,
      "outputs": [
        {
          "output_type": "stream",
          "text": [
            "Requirement already up-to-date: kaggle in /usr/local/lib/python3.6/dist-packages (1.5.6)\n",
            "Requirement already satisfied, skipping upgrade: certifi in /tensorflow-2.1.0/python3.6 (from kaggle) (2019.11.28)\n",
            "Requirement already satisfied, skipping upgrade: six>=1.10 in /tensorflow-2.1.0/python3.6 (from kaggle) (1.14.0)\n",
            "Requirement already satisfied, skipping upgrade: requests in /tensorflow-2.1.0/python3.6 (from kaggle) (2.22.0)\n",
            "Requirement already satisfied, skipping upgrade: python-slugify in /usr/local/lib/python3.6/dist-packages (from kaggle) (4.0.0)\n",
            "Requirement already satisfied, skipping upgrade: urllib3<1.25,>=1.21.1 in /usr/local/lib/python3.6/dist-packages (from kaggle) (1.24.3)\n",
            "Requirement already satisfied, skipping upgrade: tqdm in /usr/local/lib/python3.6/dist-packages (from kaggle) (4.28.1)\n",
            "Requirement already satisfied, skipping upgrade: python-dateutil in /usr/local/lib/python3.6/dist-packages (from kaggle) (2.6.1)\n",
            "Requirement already satisfied, skipping upgrade: idna<2.9,>=2.5 in /tensorflow-2.1.0/python3.6 (from requests->kaggle) (2.8)\n",
            "Requirement already satisfied, skipping upgrade: chardet<3.1.0,>=3.0.2 in /tensorflow-2.1.0/python3.6 (from requests->kaggle) (3.0.4)\n",
            "Requirement already satisfied, skipping upgrade: text-unidecode>=1.3 in /usr/local/lib/python3.6/dist-packages (from python-slugify->kaggle) (1.3)\n"
          ],
          "name": "stdout"
        }
      ]
    },
    {
      "cell_type": "code",
      "metadata": {
        "id": "NfFDVP8VUidC",
        "colab_type": "code",
        "colab": {}
      },
      "source": [
        "os.environ['KAGGLE_USERNAME'] = \"diegorosales\"\n",
        "os.environ['KAGGLE_KEY'] = \"a146392ee813399d755a21356510acf5\""
      ],
      "execution_count": 0,
      "outputs": []
    },
    {
      "cell_type": "code",
      "metadata": {
        "id": "YS8xxClZWwmh",
        "colab_type": "code",
        "outputId": "631c78c4-6d96-4c6b-f036-834200f50760",
        "colab": {
          "base_uri": "https://localhost:8080/",
          "height": 34
        }
      },
      "source": [
        "!kaggle datasets download rounakbanik/the-movies-dataset"
      ],
      "execution_count": 0,
      "outputs": [
        {
          "output_type": "stream",
          "text": [
            "the-movies-dataset.zip: Skipping, found more recently modified local copy (use --force to force download)\n"
          ],
          "name": "stdout"
        }
      ]
    },
    {
      "cell_type": "code",
      "metadata": {
        "id": "KVeeKFlzW2id",
        "colab_type": "code",
        "outputId": "83ae8f07-6ead-4dd9-8ce4-947a6bc46c8f",
        "colab": {
          "base_uri": "https://localhost:8080/",
          "height": 153
        }
      },
      "source": [
        "!unzip -o 'the-movies-dataset.zip'"
      ],
      "execution_count": 0,
      "outputs": [
        {
          "output_type": "stream",
          "text": [
            "Archive:  the-movies-dataset.zip\n",
            "  inflating: credits.csv             \n",
            "  inflating: keywords.csv            \n",
            "  inflating: links.csv               \n",
            "  inflating: links_small.csv         \n",
            "  inflating: movies_metadata.csv     \n",
            "  inflating: ratings.csv             \n",
            "  inflating: ratings_small.csv       \n"
          ],
          "name": "stdout"
        }
      ]
    },
    {
      "cell_type": "code",
      "metadata": {
        "id": "JA1eP-PxW4gR",
        "colab_type": "code",
        "outputId": "b6bba1d2-e36f-4cff-f33c-7c2393985bec",
        "colab": {
          "base_uri": "https://localhost:8080/",
          "height": 187
        }
      },
      "source": [
        "os.listdir()"
      ],
      "execution_count": 0,
      "outputs": [
        {
          "output_type": "execute_result",
          "data": {
            "text/plain": [
              "['.config',\n",
              " 'links.csv',\n",
              " 'ratings.csv',\n",
              " 'movies_metadata.csv',\n",
              " 'ratings_small.csv',\n",
              " 'links_small.csv',\n",
              " 'credits.csv',\n",
              " 'the-movies-dataset.zip',\n",
              " 'keywords.csv',\n",
              " 'sample_data']"
            ]
          },
          "metadata": {
            "tags": []
          },
          "execution_count": 7
        }
      ]
    },
    {
      "cell_type": "code",
      "metadata": {
        "id": "-lHAkH0-XSwW",
        "colab_type": "code",
        "outputId": "b34c2130-8a7e-4f71-d3eb-1c890ab23ce3",
        "colab": {
          "base_uri": "https://localhost:8080/",
          "height": 289
        }
      },
      "source": [
        "movies = pd.read_csv('movies_metadata.csv')\n",
        "movies.head"
      ],
      "execution_count": 0,
      "outputs": [
        {
          "output_type": "stream",
          "text": [
            "/usr/local/lib/python3.6/dist-packages/IPython/core/interactiveshell.py:2718: DtypeWarning: Columns (10) have mixed types. Specify dtype option on import or set low_memory=False.\n",
            "  interactivity=interactivity, compiler=compiler, result=result)\n"
          ],
          "name": "stderr"
        },
        {
          "output_type": "execute_result",
          "data": {
            "text/plain": [
              "<bound method NDFrame.head of        adult  ... vote_count\n",
              "0      False  ...     5415.0\n",
              "1      False  ...     2413.0\n",
              "2      False  ...       92.0\n",
              "3      False  ...       34.0\n",
              "4      False  ...      173.0\n",
              "...      ...  ...        ...\n",
              "45461  False  ...        1.0\n",
              "45462  False  ...        3.0\n",
              "45463  False  ...        6.0\n",
              "45464  False  ...        0.0\n",
              "45465  False  ...        0.0\n",
              "\n",
              "[45466 rows x 24 columns]>"
            ]
          },
          "metadata": {
            "tags": []
          },
          "execution_count": 8
        }
      ]
    },
    {
      "cell_type": "code",
      "metadata": {
        "id": "ldfpctJ4XYnc",
        "colab_type": "code",
        "outputId": "0178b495-9c8c-4f1c-e766-82f492ce50b5",
        "colab": {
          "base_uri": "https://localhost:8080/",
          "height": 136
        }
      },
      "source": [
        "movies.columns"
      ],
      "execution_count": 0,
      "outputs": [
        {
          "output_type": "execute_result",
          "data": {
            "text/plain": [
              "Index(['adult', 'belongs_to_collection', 'budget', 'genres', 'homepage', 'id',\n",
              "       'imdb_id', 'original_language', 'original_title', 'overview',\n",
              "       'popularity', 'poster_path', 'production_companies',\n",
              "       'production_countries', 'release_date', 'revenue', 'runtime',\n",
              "       'spoken_languages', 'status', 'tagline', 'title', 'video',\n",
              "       'vote_average', 'vote_count'],\n",
              "      dtype='object')"
            ]
          },
          "metadata": {
            "tags": []
          },
          "execution_count": 9
        }
      ]
    },
    {
      "cell_type": "code",
      "metadata": {
        "id": "sYdRMpD6Xfwm",
        "colab_type": "code",
        "outputId": "85f37bd3-17fc-4275-ba77-1823ce101d0c",
        "colab": {
          "base_uri": "https://localhost:8080/",
          "height": 221
        }
      },
      "source": [
        "movies.genres"
      ],
      "execution_count": 0,
      "outputs": [
        {
          "output_type": "execute_result",
          "data": {
            "text/plain": [
              "0        [{'id': 16, 'name': 'Animation'}, {'id': 35, '...\n",
              "1        [{'id': 12, 'name': 'Adventure'}, {'id': 14, '...\n",
              "2        [{'id': 10749, 'name': 'Romance'}, {'id': 35, ...\n",
              "3        [{'id': 35, 'name': 'Comedy'}, {'id': 18, 'nam...\n",
              "4                           [{'id': 35, 'name': 'Comedy'}]\n",
              "                               ...                        \n",
              "45461    [{'id': 18, 'name': 'Drama'}, {'id': 10751, 'n...\n",
              "45462                        [{'id': 18, 'name': 'Drama'}]\n",
              "45463    [{'id': 28, 'name': 'Action'}, {'id': 18, 'nam...\n",
              "45464                                                   []\n",
              "45465                                                   []\n",
              "Name: genres, Length: 45466, dtype: object"
            ]
          },
          "metadata": {
            "tags": []
          },
          "execution_count": 10
        }
      ]
    },
    {
      "cell_type": "code",
      "metadata": {
        "id": "h4OVXksEXk2r",
        "colab_type": "code",
        "outputId": "f79b1ed5-866c-4a45-c59e-0840b1094fc7",
        "colab": {
          "base_uri": "https://localhost:8080/",
          "height": 221
        }
      },
      "source": [
        "movies.overview"
      ],
      "execution_count": 0,
      "outputs": [
        {
          "output_type": "execute_result",
          "data": {
            "text/plain": [
              "0        Led by Woody, Andy's toys live happily in his ...\n",
              "1        When siblings Judy and Peter discover an encha...\n",
              "2        A family wedding reignites the ancient feud be...\n",
              "3        Cheated on, mistreated and stepped on, the wom...\n",
              "4        Just when George Banks has recovered from his ...\n",
              "                               ...                        \n",
              "45461          Rising and falling between a man and woman.\n",
              "45462    An artist struggles to finish his work while a...\n",
              "45463    When one of her hits goes wrong, a professiona...\n",
              "45464    In a small town live two brothers, one a minis...\n",
              "45465    50 years after decriminalisation of homosexual...\n",
              "Name: overview, Length: 45466, dtype: object"
            ]
          },
          "metadata": {
            "tags": []
          },
          "execution_count": 12
        }
      ]
    },
    {
      "cell_type": "code",
      "metadata": {
        "id": "wsRh5fnkXsVv",
        "colab_type": "code",
        "colab": {}
      },
      "source": [
        "movies = movies[movies['imdb_id'] != '0']\n",
        "movies = movies[movies['genres'] != \"[]\"]\n",
        "movies = movies[~pd.isna(movies['overview'])]\n",
        "dataset = movies[['overview', 'genres']] "
      ],
      "execution_count": 0,
      "outputs": []
    },
    {
      "cell_type": "code",
      "metadata": {
        "id": "pKp9XMGcZ6HS",
        "colab_type": "code",
        "outputId": "047381e9-0224-4ef8-ee08-59b95020cd3d",
        "colab": {
          "base_uri": "https://localhost:8080/",
          "height": 34
        }
      },
      "source": [
        "len(dataset)"
      ],
      "execution_count": 0,
      "outputs": [
        {
          "output_type": "execute_result",
          "data": {
            "text/plain": [
              "42324"
            ]
          },
          "metadata": {
            "tags": []
          },
          "execution_count": 14
        }
      ]
    },
    {
      "cell_type": "code",
      "metadata": {
        "id": "zPsg3FcfZ0XC",
        "colab_type": "code",
        "outputId": "661b96a8-6a79-410c-c0cb-74cbc74d3ac3",
        "colab": {
          "base_uri": "https://localhost:8080/",
          "height": 102
        }
      },
      "source": [
        "CLASS_NAMES = ['Drama','Comedy','Thriller','Romance','Action']\n",
        "CLASS_COUNT = len(CLASS_NAMES)\n",
        "dataset['genres'].replace(\"\\'\", \"\\\"\", regex=True, inplace=True)"
      ],
      "execution_count": 0,
      "outputs": [
        {
          "output_type": "stream",
          "text": [
            "/usr/local/lib/python3.6/dist-packages/pandas/core/generic.py:6786: SettingWithCopyWarning: \n",
            "A value is trying to be set on a copy of a slice from a DataFrame\n",
            "\n",
            "See the caveats in the documentation: http://pandas.pydata.org/pandas-docs/stable/user_guide/indexing.html#returning-a-view-versus-a-copy\n",
            "  self._update_inplace(new_data)\n"
          ],
          "name": "stderr"
        }
      ]
    },
    {
      "cell_type": "code",
      "metadata": {
        "id": "aJ7MatQWtHgK",
        "colab_type": "code",
        "colab": {}
      },
      "source": [
        "#genre_to_id = dict()\n",
        "label_count = dict()\n",
        "\n",
        "def genre_to_list(str_genre):\n",
        "  keep = True\n",
        "  genre_list = list(map(lambda genre:genre['name'],json.loads(str_genre)))\n",
        "  \n",
        "  for genre in genre_list:\n",
        "    count = label_count.get(genre, 0) + 1\n",
        "    label_count[genre] = count\n",
        "    if (count > 5000):\n",
        "      keep = False\n",
        "    #if (genre_to_id.get(genre,-1) == -1):\n",
        "    #  genre_to_id[genre] = len(genre_to_id.keys())\n",
        "  genres_as_ids = list(map(lambda x: CLASS_NAMES.index(x), filter(lambda x: x in CLASS_NAMES, genre_list)))\n",
        "  #genres_as_ids = list(map(lambda x:genre_to_id[x], genre_list)) \n",
        "  genres_one_hot = list()\n",
        "\n",
        "  if (len(genres_as_ids) > 0 and keep):\n",
        "    genres_one_hot = tf.keras.utils.to_categorical(genres_as_ids, CLASS_COUNT, dtype='int')\n",
        "    genres_one_hot = functools.reduce(lambda x,y : x+y,genres_one_hot)\n",
        "\n",
        "  return genres_one_hot"
      ],
      "execution_count": 0,
      "outputs": []
    },
    {
      "cell_type": "code",
      "metadata": {
        "id": "nyOJaYvutIP7",
        "colab_type": "code",
        "outputId": "48618777-9418-4ed4-ed37-c08af07aece0",
        "colab": {
          "base_uri": "https://localhost:8080/",
          "height": 136
        }
      },
      "source": [
        "dataset['genres'] = dataset['genres'].apply(lambda x: genre_to_list(x))\n",
        "dataset.iloc[0]['genres']"
      ],
      "execution_count": 0,
      "outputs": [
        {
          "output_type": "stream",
          "text": [
            "/usr/local/lib/python3.6/dist-packages/ipykernel_launcher.py:1: SettingWithCopyWarning: \n",
            "A value is trying to be set on a copy of a slice from a DataFrame.\n",
            "Try using .loc[row_indexer,col_indexer] = value instead\n",
            "\n",
            "See the caveats in the documentation: http://pandas.pydata.org/pandas-docs/stable/user_guide/indexing.html#returning-a-view-versus-a-copy\n",
            "  \"\"\"Entry point for launching an IPython kernel.\n"
          ],
          "name": "stderr"
        },
        {
          "output_type": "execute_result",
          "data": {
            "text/plain": [
              "array([0, 1, 0, 0, 0])"
            ]
          },
          "metadata": {
            "tags": []
          },
          "execution_count": 17
        }
      ]
    },
    {
      "cell_type": "code",
      "metadata": {
        "id": "LWPLpJ8ktJzx",
        "colab_type": "code",
        "outputId": "8e2e8929-007c-4095-af17-2aafe94a40a4",
        "colab": {
          "base_uri": "https://localhost:8080/",
          "height": 34
        }
      },
      "source": [
        "dataset = dataset[~dataset['genres'].str.len().eq(0)]\n",
        "len(dataset)"
      ],
      "execution_count": 0,
      "outputs": [
        {
          "output_type": "execute_result",
          "data": {
            "text/plain": [
              "11869"
            ]
          },
          "metadata": {
            "tags": []
          },
          "execution_count": 18
        }
      ]
    },
    {
      "cell_type": "code",
      "metadata": {
        "id": "cV1KaiaMtOww",
        "colab_type": "code",
        "outputId": "ad6643b7-4a79-4a99-f970-53699a3f4db5",
        "colab": {
          "base_uri": "https://localhost:8080/",
          "height": 357
        }
      },
      "source": [
        "sorted(label_count.items(), key=lambda x: x[1], reverse=True)"
      ],
      "execution_count": 0,
      "outputs": [
        {
          "output_type": "execute_result",
          "data": {
            "text/plain": [
              "[('Drama', 20023),\n",
              " ('Comedy', 12806),\n",
              " ('Thriller', 7586),\n",
              " ('Romance', 6673),\n",
              " ('Action', 6565),\n",
              " ('Horror', 4660),\n",
              " ('Crime', 4269),\n",
              " ('Documentary', 3886),\n",
              " ('Adventure', 3470),\n",
              " ('Science Fiction', 3028),\n",
              " ('Family', 2732),\n",
              " ('Mystery', 2451),\n",
              " ('Fantasy', 2290),\n",
              " ('Animation', 1920),\n",
              " ('Foreign', 1599),\n",
              " ('Music', 1588),\n",
              " ('History', 1379),\n",
              " ('War', 1310),\n",
              " ('Western', 1035),\n",
              " ('TV Movie', 751)]"
            ]
          },
          "metadata": {
            "tags": []
          },
          "execution_count": 19
        }
      ]
    },
    {
      "cell_type": "code",
      "metadata": {
        "id": "sVGk6pDXtQiu",
        "colab_type": "code",
        "outputId": "656b74ca-162c-4425-f62f-9720d1be524e",
        "colab": {
          "base_uri": "https://localhost:8080/",
          "height": 34
        }
      },
      "source": [
        "train_split = dataset.sample(frac = 0.7,random_state=42)\n",
        "test_split = dataset.drop(train_split.index).sample(frac = 0.5)\n",
        "validation_split = dataset.drop(train_split.index).drop(test_split.index)\n",
        "\n",
        "train_split.shape, validation_split.shape, test_split.shape"
      ],
      "execution_count": 0,
      "outputs": [
        {
          "output_type": "execute_result",
          "data": {
            "text/plain": [
              "((8308, 2), (1781, 2), (1780, 2))"
            ]
          },
          "metadata": {
            "tags": []
          },
          "execution_count": 20
        }
      ]
    },
    {
      "cell_type": "code",
      "metadata": {
        "id": "JcgO-thstTXt",
        "colab_type": "code",
        "outputId": "51872fdb-ca8a-442f-ad8f-2fa3fdecdcb0",
        "colab": {
          "base_uri": "https://localhost:8080/",
          "height": 71
        }
      },
      "source": [
        "train_labels = train_split['genres']\n",
        "test_labels = test_split['genres']\n",
        "validation_labels = validation_split['genres']\n",
        "train_labels.shape, test_labels.shape, validation_labels.shape\n",
        "\n",
        "\n",
        "train_dataset = tf.data.Dataset.from_tensor_slices((train_split['overview'], train_split['genres']))\n",
        "test_dataset = tf.data.Dataset.from_tensor_slices((test_split['overview'], test_split['genres']))\n",
        "validation_dataset = tf.data.Dataset.from_tensor_slices((validation_split['overview'], validation_split['genres']))\n",
        "train_dataset.element_spec\n",
        "\n",
        "overview, genres = next(iter(train_dataset))\n",
        "overview, genres"
      ],
      "execution_count": 0,
      "outputs": [
        {
          "output_type": "execute_result",
          "data": {
            "text/plain": [
              "(<tf.Tensor: shape=(), dtype=string, numpy=b'Christopher Walken shines in this cult-favorite dark comedy as Charlie, a former mobster who is abducted by five privileged young men (Sean Patrick Flanery, Johnny Galecki, Jay Mohr, Jeremy Sisto, Henry Thomas) desperate to raise a $2 million ransom to save the sister of a friend. As Charlie plays mind games, however, his captors splinter -- each wondering whether one of their own had a hand in the crime.'>,\n",
              " <tf.Tensor: shape=(5,), dtype=int32, numpy=array([1, 1, 1, 0, 1], dtype=int32)>)"
            ]
          },
          "metadata": {
            "tags": []
          },
          "execution_count": 21
        }
      ]
    },
    {
      "cell_type": "code",
      "metadata": {
        "id": "Swf5qlPGtZre",
        "colab_type": "code",
        "colab": {}
      },
      "source": [
        "batch_size = 128\n",
        "shuffle_buffer_size = 1000"
      ],
      "execution_count": 0,
      "outputs": []
    },
    {
      "cell_type": "code",
      "metadata": {
        "id": "PKCzfR5Eta-S",
        "colab_type": "code",
        "colab": {}
      },
      "source": [
        "train_dataset = train_dataset.shuffle(shuffle_buffer_size).repeat().batch(batch_size)\n",
        "validation_dataset = validation_dataset.shuffle(shuffle_buffer_size).batch(batch_size)\n",
        "test_dataset = test_dataset.shuffle(shuffle_buffer_size).batch(batch_size)\n"
      ],
      "execution_count": 0,
      "outputs": []
    },
    {
      "cell_type": "code",
      "metadata": {
        "id": "kLDUV1m1tcar",
        "colab_type": "code",
        "outputId": "0141ce8d-10ce-4552-df03-2dcf012b2bff",
        "colab": {
          "base_uri": "https://localhost:8080/",
          "height": 34
        }
      },
      "source": [
        "overview, genres = next(iter(train_dataset))\n",
        "overview.shape, genres.shape"
      ],
      "execution_count": 0,
      "outputs": [
        {
          "output_type": "execute_result",
          "data": {
            "text/plain": [
              "(TensorShape([128]), TensorShape([128, 5]))"
            ]
          },
          "metadata": {
            "tags": []
          },
          "execution_count": 24
        }
      ]
    },
    {
      "cell_type": "code",
      "metadata": {
        "id": "s9kXzGXEtfQ1",
        "colab_type": "code",
        "colab": {}
      },
      "source": [
        "epochs = 20\n",
        "train_steps = 10\n",
        "validation_steps = 5"
      ],
      "execution_count": 0,
      "outputs": []
    },
    {
      "cell_type": "code",
      "metadata": {
        "id": "jFJ8TA4ktx-5",
        "colab_type": "code",
        "outputId": "2e04140e-cd0e-49b3-ab0a-80741635a218",
        "colab": {
          "base_uri": "https://localhost:8080/",
          "height": 289
        }
      },
      "source": [
        "embeddings_model = Sequential([\n",
        "    hub.KerasLayer(\"https://tfhub.dev/google/tf2-preview/nnlm-en-dim128/1\", output_shape=[128], input_shape=[], dtype=tf.string),\n",
        "    Flatten(),\n",
        "    Dense(128, activation='relu'),  \n",
        "    Dense(CLASS_COUNT, activation='sigmoid'),\n",
        "])\n",
        "\n",
        "embeddings_model.summary()"
      ],
      "execution_count": 0,
      "outputs": [
        {
          "output_type": "stream",
          "text": [
            "Model: \"sequential_2\"\n",
            "_________________________________________________________________\n",
            "Layer (type)                 Output Shape              Param #   \n",
            "=================================================================\n",
            "keras_layer (KerasLayer)     (None, 128)               124642688 \n",
            "_________________________________________________________________\n",
            "flatten_2 (Flatten)          (None, 128)               0         \n",
            "_________________________________________________________________\n",
            "dense_4 (Dense)              (None, 128)               16512     \n",
            "_________________________________________________________________\n",
            "dense_5 (Dense)              (None, 5)                 645       \n",
            "=================================================================\n",
            "Total params: 124,659,845\n",
            "Trainable params: 17,157\n",
            "Non-trainable params: 124,642,688\n",
            "_________________________________________________________________\n"
          ],
          "name": "stdout"
        }
      ]
    },
    {
      "cell_type": "code",
      "metadata": {
        "id": "B7qY-hfBucut",
        "colab_type": "code",
        "colab": {}
      },
      "source": [
        "embeddings_model.compile(optimizer='adam',\n",
        "              loss='binary_crossentropy',\n",
        "              metrics=['accuracy'])"
      ],
      "execution_count": 0,
      "outputs": []
    },
    {
      "cell_type": "code",
      "metadata": {
        "id": "44XT2nn9uq0B",
        "colab_type": "code",
        "outputId": "da27d2d1-2caf-42eb-c21a-794061dca4ef",
        "colab": {
          "base_uri": "https://localhost:8080/",
          "height": 714
        }
      },
      "source": [
        "history = embeddings_model.fit(train_dataset,\n",
        "                    epochs=epochs,\n",
        "                    steps_per_epoch=train_steps,\n",
        "                    validation_data=validation_dataset,\n",
        "                    validation_steps=validation_steps\n",
        "                   )         "
      ],
      "execution_count": 0,
      "outputs": [
        {
          "output_type": "stream",
          "text": [
            "Train for 10 steps, validate for 5 steps\n",
            "Epoch 1/20\n",
            "10/10 [==============================] - 3s 280ms/step - loss: 0.6685 - accuracy: 0.6278 - val_loss: 0.6432 - val_accuracy: 0.6669\n",
            "Epoch 2/20\n",
            "10/10 [==============================] - 2s 168ms/step - loss: 0.6278 - accuracy: 0.6873 - val_loss: 0.6207 - val_accuracy: 0.6559\n",
            "Epoch 3/20\n",
            "10/10 [==============================] - 2s 168ms/step - loss: 0.6092 - accuracy: 0.6778 - val_loss: 0.6034 - val_accuracy: 0.6641\n",
            "Epoch 4/20\n",
            "10/10 [==============================] - 2s 169ms/step - loss: 0.5920 - accuracy: 0.6844 - val_loss: 0.5884 - val_accuracy: 0.6822\n",
            "Epoch 5/20\n",
            "10/10 [==============================] - 2s 169ms/step - loss: 0.5784 - accuracy: 0.7019 - val_loss: 0.5823 - val_accuracy: 0.6872\n",
            "Epoch 6/20\n",
            "10/10 [==============================] - 2s 170ms/step - loss: 0.5765 - accuracy: 0.6961 - val_loss: 0.5753 - val_accuracy: 0.6903\n",
            "Epoch 7/20\n",
            "10/10 [==============================] - 2s 168ms/step - loss: 0.5607 - accuracy: 0.7023 - val_loss: 0.5612 - val_accuracy: 0.7000\n",
            "Epoch 8/20\n",
            "10/10 [==============================] - 2s 174ms/step - loss: 0.5594 - accuracy: 0.7108 - val_loss: 0.5616 - val_accuracy: 0.7003\n",
            "Epoch 9/20\n",
            "10/10 [==============================] - 2s 174ms/step - loss: 0.5460 - accuracy: 0.7194 - val_loss: 0.5455 - val_accuracy: 0.7100\n",
            "Epoch 10/20\n",
            "10/10 [==============================] - 2s 174ms/step - loss: 0.5304 - accuracy: 0.7298 - val_loss: 0.5276 - val_accuracy: 0.7363\n",
            "Epoch 11/20\n",
            "10/10 [==============================] - 2s 174ms/step - loss: 0.5279 - accuracy: 0.7305 - val_loss: 0.5283 - val_accuracy: 0.7309\n",
            "Epoch 12/20\n",
            "10/10 [==============================] - 2s 177ms/step - loss: 0.5245 - accuracy: 0.7348 - val_loss: 0.5198 - val_accuracy: 0.7363\n",
            "Epoch 13/20\n",
            "10/10 [==============================] - 2s 178ms/step - loss: 0.5205 - accuracy: 0.7372 - val_loss: 0.5171 - val_accuracy: 0.7466\n",
            "Epoch 14/20\n",
            "10/10 [==============================] - 2s 172ms/step - loss: 0.5181 - accuracy: 0.7413 - val_loss: 0.5200 - val_accuracy: 0.7306\n",
            "Epoch 15/20\n",
            "10/10 [==============================] - 2s 173ms/step - loss: 0.5108 - accuracy: 0.7483 - val_loss: 0.5073 - val_accuracy: 0.7453\n",
            "Epoch 16/20\n",
            "10/10 [==============================] - 2s 169ms/step - loss: 0.5045 - accuracy: 0.7536 - val_loss: 0.5182 - val_accuracy: 0.7419\n",
            "Epoch 17/20\n",
            "10/10 [==============================] - 2s 173ms/step - loss: 0.5004 - accuracy: 0.7561 - val_loss: 0.5025 - val_accuracy: 0.7563\n",
            "Epoch 18/20\n",
            "10/10 [==============================] - 2s 173ms/step - loss: 0.4987 - accuracy: 0.7516 - val_loss: 0.5052 - val_accuracy: 0.7522\n",
            "Epoch 19/20\n",
            "10/10 [==============================] - 2s 172ms/step - loss: 0.5028 - accuracy: 0.7511 - val_loss: 0.5097 - val_accuracy: 0.7469\n",
            "Epoch 20/20\n",
            "10/10 [==============================] - 2s 172ms/step - loss: 0.5035 - accuracy: 0.7525 - val_loss: 0.5182 - val_accuracy: 0.7359\n"
          ],
          "name": "stdout"
        }
      ]
    },
    {
      "cell_type": "code",
      "metadata": {
        "id": "bMh85BsIwD-R",
        "colab_type": "code",
        "outputId": "3f9c1b63-380c-47bf-c2af-43552483395a",
        "colab": {
          "base_uri": "https://localhost:8080/",
          "height": 621
        }
      },
      "source": [
        "acc = history.history['accuracy']\n",
        "val_acc = history.history['val_accuracy']\n",
        "\n",
        "loss = history.history['loss']\n",
        "val_loss = history.history['val_loss']\n",
        "\n",
        "plt.figure(figsize=(10, 10))\n",
        "plt.subplot(2, 1, 1)\n",
        "plt.plot(acc, label='Training Accuracy')\n",
        "plt.plot(val_acc, label='Validation Accuracy')\n",
        "plt.legend(loc='lower right')\n",
        "plt.setp(plt.legend().get_texts(), color='black')\n",
        "plt.ylabel('Accuracy')\n",
        "plt.ylim([min(plt.ylim()),1.0])\n",
        "plt.title('Training and Validation Accuracy')\n",
        "\n",
        "plt.subplot(2, 1, 2)\n",
        "plt.plot(loss, label='Training Loss')\n",
        "plt.plot(val_loss, label='Validation Loss')\n",
        "plt.legend(loc='upper right')\n",
        "plt.setp(plt.legend().get_texts(), color='black')\n",
        "plt.ylabel('Cross Entropy')\n",
        "plt.ylim([0.0,1.0])\n",
        "plt.title('Training and Validation Loss')\n",
        "plt.xlabel('epoch')\n",
        "plt.show()"
      ],
      "execution_count": 0,
      "outputs": [
        {
          "output_type": "display_data",
          "data": {
            "image/png": "[encoded data removed]",
            "text/plain": [
              "<Figure size 720x720 with 2 Axes>"
            ]
          },
          "metadata": {
            "tags": []
          }
        }
      ]
    },
    {
      "cell_type": "code",
      "metadata": {
        "id": "SQcet7YywG_U",
        "colab_type": "code",
        "outputId": "62c4e433-34ce-4e24-f58b-ad7541740dcd",
        "colab": {
          "base_uri": "https://localhost:8080/",
          "height": 51
        }
      },
      "source": [
        "test_loss, test_acc = embeddings_model.evaluate(test_dataset, verbose=3)\n",
        "\n",
        "print('Loss:', test_loss)\n",
        "print('Accuracy:', test_acc)"
      ],
      "execution_count": 0,
      "outputs": [
        {
          "output_type": "stream",
          "text": [
            "Loss: 0.49974573297160013\n",
            "Accuracy: 0.75146073\n"
          ],
          "name": "stdout"
        }
      ]
    }
  ]
}